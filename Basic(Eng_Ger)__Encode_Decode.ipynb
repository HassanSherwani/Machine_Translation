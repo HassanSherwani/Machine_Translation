{
  "nbformat": 4,
  "nbformat_minor": 0,
  "metadata": {
    "colab": {
      "name": "Basic(Eng_Ger)_ Encode-Decode.ipynb",
      "version": "0.3.2",
      "provenance": [],
      "collapsed_sections": [],
      "machine_shape": "hm"
    },
    "kernelspec": {
      "name": "python3",
      "display_name": "Python 3"
    },
    "accelerator": "GPU"
  },
  "cells": [
    {
      "cell_type": "markdown",
      "metadata": {
        "id": "QJxJLfT6m4zo",
        "colab_type": "text"
      },
      "source": [
        "# Machine Translation\n",
        "\n",
        "English-German Translation"
      ]
    },
    {
      "cell_type": "markdown",
      "metadata": {
        "id": "YvFSu3KOnCQI",
        "colab_type": "text"
      },
      "source": [
        "# 1)- Importing key modules"
      ]
    },
    {
      "cell_type": "code",
      "metadata": {
        "id": "ydSdCo4JzRta",
        "colab_type": "code",
        "colab": {}
      },
      "source": [
        "#support both Python 2 and Python 3 with minimal overhead.\n",
        "from __future__ import absolute_import, division, print_function\n",
        "#ignore warnings\n",
        "import warnings\n",
        "warnings.filterwarnings('ignore')"
      ],
      "execution_count": 0,
      "outputs": []
    },
    {
      "cell_type": "code",
      "metadata": {
        "id": "HXdjBXc-zNXe",
        "colab_type": "code",
        "colab": {}
      },
      "source": [
        "import string \n",
        "from string import digits\n",
        "import re \n",
        "from sklearn.utils import shuffle\n",
        "from sklearn.model_selection import train_test_split\n",
        "from numpy import array, argmax, random, take \n",
        "import pandas as pd \n",
        "import matplotlib.pyplot as plt \n",
        "% matplotlib inline \n",
        "pd.set_option('display.max_colwidth', 200)"
      ],
      "execution_count": 0,
      "outputs": []
    },
    {
      "cell_type": "code",
      "metadata": {
        "id": "ElRcz5K3hJrC",
        "colab_type": "code",
        "outputId": "34942396-0182-4d86-c798-b534de9efafa",
        "colab": {
          "base_uri": "https://localhost:8080/",
          "height": 34
        }
      },
      "source": [
        "from keras.models import Model\n",
        "from keras.models import Sequential \n",
        "from keras.layers import Dense, LSTM, Embedding,Input,RepeatVector\n",
        "from keras.preprocessing.text import Tokenizer\n",
        "from keras.callbacks import ModelCheckpoint \n",
        "from keras.preprocessing.sequence import pad_sequences\n",
        "from keras.models import load_model \n",
        "from keras import optimizers \n"
      ],
      "execution_count": 3,
      "outputs": [
        {
          "output_type": "stream",
          "text": [
            "Using TensorFlow backend.\n"
          ],
          "name": "stderr"
        }
      ]
    },
    {
      "cell_type": "markdown",
      "metadata": {
        "id": "XN_b91atnHye",
        "colab_type": "text"
      },
      "source": [
        "# 2)- Reading Dataset"
      ]
    },
    {
      "cell_type": "code",
      "metadata": {
        "id": "ZM1ZO53WhL_6",
        "colab_type": "code",
        "colab": {}
      },
      "source": [
        "lines= pd.read_table('deu.txt', names=['eng', 'deu'])"
      ],
      "execution_count": 0,
      "outputs": []
    },
    {
      "cell_type": "code",
      "metadata": {
        "id": "gws8XMBx-IfV",
        "colab_type": "code",
        "colab": {
          "base_uri": "https://localhost:8080/",
          "height": 34
        },
        "outputId": "e2e6ceb4-ff63-4673-84b1-0fdbb9e1d628"
      },
      "source": [
        "lines.shape"
      ],
      "execution_count": 5,
      "outputs": [
        {
          "output_type": "execute_result",
          "data": {
            "text/plain": [
              "(195847, 2)"
            ]
          },
          "metadata": {
            "tags": []
          },
          "execution_count": 5
        }
      ]
    },
    {
      "cell_type": "code",
      "metadata": {
        "id": "GdbfP26dHHIX",
        "colab_type": "code",
        "colab": {
          "base_uri": "https://localhost:8080/",
          "height": 195
        },
        "outputId": "2f3a380b-c0d2-4e54-8867-fb6f1d982016"
      },
      "source": [
        "lines.head()"
      ],
      "execution_count": 6,
      "outputs": [
        {
          "output_type": "execute_result",
          "data": {
            "text/html": [
              "<div>\n",
              "<style scoped>\n",
              "    .dataframe tbody tr th:only-of-type {\n",
              "        vertical-align: middle;\n",
              "    }\n",
              "\n",
              "    .dataframe tbody tr th {\n",
              "        vertical-align: top;\n",
              "    }\n",
              "\n",
              "    .dataframe thead th {\n",
              "        text-align: right;\n",
              "    }\n",
              "</style>\n",
              "<table border=\"1\" class=\"dataframe\">\n",
              "  <thead>\n",
              "    <tr style=\"text-align: right;\">\n",
              "      <th></th>\n",
              "      <th>eng</th>\n",
              "      <th>deu</th>\n",
              "    </tr>\n",
              "  </thead>\n",
              "  <tbody>\n",
              "    <tr>\n",
              "      <th>0</th>\n",
              "      <td>Hi.</td>\n",
              "      <td>Hallo!</td>\n",
              "    </tr>\n",
              "    <tr>\n",
              "      <th>1</th>\n",
              "      <td>Hi.</td>\n",
              "      <td>Grüß Gott!</td>\n",
              "    </tr>\n",
              "    <tr>\n",
              "      <th>2</th>\n",
              "      <td>Run!</td>\n",
              "      <td>Lauf!</td>\n",
              "    </tr>\n",
              "    <tr>\n",
              "      <th>3</th>\n",
              "      <td>Wow!</td>\n",
              "      <td>Potzdonner!</td>\n",
              "    </tr>\n",
              "    <tr>\n",
              "      <th>4</th>\n",
              "      <td>Wow!</td>\n",
              "      <td>Donnerwetter!</td>\n",
              "    </tr>\n",
              "  </tbody>\n",
              "</table>\n",
              "</div>"
            ],
            "text/plain": [
              "    eng            deu\n",
              "0   Hi.         Hallo!\n",
              "1   Hi.     Grüß Gott!\n",
              "2  Run!          Lauf!\n",
              "3  Wow!    Potzdonner!\n",
              "4  Wow!  Donnerwetter!"
            ]
          },
          "metadata": {
            "tags": []
          },
          "execution_count": 6
        }
      ]
    },
    {
      "cell_type": "code",
      "metadata": {
        "id": "Y11hmIvPFXQi",
        "colab_type": "code",
        "colab": {}
      },
      "source": [
        "lines = lines[:50000]"
      ],
      "execution_count": 0,
      "outputs": []
    },
    {
      "cell_type": "code",
      "metadata": {
        "id": "GEvO1bfy-KKP",
        "colab_type": "code",
        "colab": {}
      },
      "source": [
        "# Lowercase all characters\n",
        "lines.eng=lines.eng.apply(lambda x: x.lower())\n",
        "lines.deu=lines.deu.apply(lambda x: x.lower())"
      ],
      "execution_count": 0,
      "outputs": []
    },
    {
      "cell_type": "code",
      "metadata": {
        "id": "9bLMfF59-KNX",
        "colab_type": "code",
        "colab": {}
      },
      "source": [
        "# Remove quotes\n",
        "lines.eng=lines.eng.apply(lambda x: re.sub(\"'\", '', x))\n",
        "lines.deu=lines.deu.apply(lambda x: re.sub(\"'\", '', x))"
      ],
      "execution_count": 0,
      "outputs": []
    },
    {
      "cell_type": "code",
      "metadata": {
        "id": "t-rYHNHd-KQK",
        "colab_type": "code",
        "colab": {}
      },
      "source": [
        "exclude = set(string.punctuation) # Set of all special characters\n",
        "# Remove all the special characters\n",
        "lines.eng=lines.eng.apply(lambda x: ''.join(ch for ch in x if ch not in exclude))\n",
        "lines.deu=lines.deu.apply(lambda x: ''.join(ch for ch in x if ch not in exclude))"
      ],
      "execution_count": 0,
      "outputs": []
    },
    {
      "cell_type": "code",
      "metadata": {
        "id": "bWGhz8JG-KVi",
        "colab_type": "code",
        "colab": {}
      },
      "source": [
        "# Remove all numbers from text\n",
        "remove_digits = str.maketrans('', '', digits)\n",
        "lines.eng=lines.eng.apply(lambda x: x.translate(remove_digits))\n",
        "lines.deu=lines.deu.apply(lambda x: x.translate(remove_digits))"
      ],
      "execution_count": 0,
      "outputs": []
    },
    {
      "cell_type": "code",
      "metadata": {
        "id": "qCJnKqIY-KYm",
        "colab_type": "code",
        "colab": {}
      },
      "source": [
        "# Remove extra spaces\n",
        "lines.eng=lines.eng.apply(lambda x: x.strip())\n",
        "lines.deu=lines.deu.apply(lambda x: x.strip())\n",
        "lines.eng=lines.eng.apply(lambda x: re.sub(\" +\", \" \", x))\n",
        "lines.deu=lines.deu.apply(lambda x: re.sub(\" +\", \" \", x))"
      ],
      "execution_count": 0,
      "outputs": []
    },
    {
      "cell_type": "code",
      "metadata": {
        "id": "WBDIXrRH-KTf",
        "colab_type": "code",
        "colab": {}
      },
      "source": [
        "# Add start and end tokens to target sequences. I am not German so , I am doing so for my ease\n",
        "lines.deu = lines.deu.apply(lambda x : 'START_ '+ x + ' _END')"
      ],
      "execution_count": 0,
      "outputs": []
    },
    {
      "cell_type": "code",
      "metadata": {
        "id": "5slsI5P7-Ja-",
        "colab_type": "code",
        "colab": {
          "base_uri": "https://localhost:8080/",
          "height": 343
        },
        "outputId": "95df52a4-b4b4-4084-f790-5da3941140a6"
      },
      "source": [
        "lines.sample(10)"
      ],
      "execution_count": 14,
      "outputs": [
        {
          "output_type": "execute_result",
          "data": {
            "text/html": [
              "<div>\n",
              "<style scoped>\n",
              "    .dataframe tbody tr th:only-of-type {\n",
              "        vertical-align: middle;\n",
              "    }\n",
              "\n",
              "    .dataframe tbody tr th {\n",
              "        vertical-align: top;\n",
              "    }\n",
              "\n",
              "    .dataframe thead th {\n",
              "        text-align: right;\n",
              "    }\n",
              "</style>\n",
              "<table border=\"1\" class=\"dataframe\">\n",
              "  <thead>\n",
              "    <tr style=\"text-align: right;\">\n",
              "      <th></th>\n",
              "      <th>eng</th>\n",
              "      <th>deu</th>\n",
              "    </tr>\n",
              "  </thead>\n",
              "  <tbody>\n",
              "    <tr>\n",
              "      <th>37196</th>\n",
              "      <td>the party was a flop</td>\n",
              "      <td>START_ die party war ein reinfall _END</td>\n",
              "    </tr>\n",
              "    <tr>\n",
              "      <th>21275</th>\n",
              "      <td>tom loves sunsets</td>\n",
              "      <td>START_ tom liebt sonnenuntergänge _END</td>\n",
              "    </tr>\n",
              "    <tr>\n",
              "      <th>1349</th>\n",
              "      <td>let me see</td>\n",
              "      <td>START_ lass mich sehen _END</td>\n",
              "    </tr>\n",
              "    <tr>\n",
              "      <th>47147</th>\n",
              "      <td>he was voted prom king</td>\n",
              "      <td>START_ er wurde zum ballkönig gewählt _END</td>\n",
              "    </tr>\n",
              "    <tr>\n",
              "      <th>13204</th>\n",
              "      <td>did you know him</td>\n",
              "      <td>START_ kanntest du ihn _END</td>\n",
              "    </tr>\n",
              "    <tr>\n",
              "      <th>3871</th>\n",
              "      <td>tom has left</td>\n",
              "      <td>START_ tom ist schon gegangen _END</td>\n",
              "    </tr>\n",
              "    <tr>\n",
              "      <th>24770</th>\n",
              "      <td>it is cloudy today</td>\n",
              "      <td>START_ es ist heute wolkig _END</td>\n",
              "    </tr>\n",
              "    <tr>\n",
              "      <th>19199</th>\n",
              "      <td>im half japanese</td>\n",
              "      <td>START_ ich bin zur hälfte japaner _END</td>\n",
              "    </tr>\n",
              "    <tr>\n",
              "      <th>47263</th>\n",
              "      <td>how about another beer</td>\n",
              "      <td>START_ wie wär’s mit noch einem bier _END</td>\n",
              "    </tr>\n",
              "    <tr>\n",
              "      <th>2895</th>\n",
              "      <td>come forward</td>\n",
              "      <td>START_ tretet vor _END</td>\n",
              "    </tr>\n",
              "  </tbody>\n",
              "</table>\n",
              "</div>"
            ],
            "text/plain": [
              "                          eng                                         deu\n",
              "37196    the party was a flop      START_ die party war ein reinfall _END\n",
              "21275       tom loves sunsets      START_ tom liebt sonnenuntergänge _END\n",
              "1349               let me see                 START_ lass mich sehen _END\n",
              "47147  he was voted prom king  START_ er wurde zum ballkönig gewählt _END\n",
              "13204        did you know him                 START_ kanntest du ihn _END\n",
              "3871             tom has left          START_ tom ist schon gegangen _END\n",
              "24770      it is cloudy today             START_ es ist heute wolkig _END\n",
              "19199        im half japanese      START_ ich bin zur hälfte japaner _END\n",
              "47263  how about another beer   START_ wie wär’s mit noch einem bier _END\n",
              "2895             come forward                      START_ tretet vor _END"
            ]
          },
          "metadata": {
            "tags": []
          },
          "execution_count": 14
        }
      ]
    },
    {
      "cell_type": "code",
      "metadata": {
        "id": "tum2mSmK-Jeq",
        "colab_type": "code",
        "colab": {}
      },
      "source": [
        "# Vocabulary of English\n",
        "all_eng_words=set()\n",
        "for eng in lines.eng:\n",
        "    for word in eng.split():\n",
        "        if word not in all_eng_words:\n",
        "            all_eng_words.add(word)\n",
        "# Vocabulary of German \n",
        "all_german_words=set()\n",
        "for ger in lines.deu:\n",
        "    for word in ger.split():\n",
        "        if word not in all_german_words:\n",
        "            all_german_words.add(word)"
      ],
      "execution_count": 0,
      "outputs": []
    },
    {
      "cell_type": "code",
      "metadata": {
        "id": "gGrnrWLw-Jhr",
        "colab_type": "code",
        "colab": {
          "base_uri": "https://localhost:8080/",
          "height": 34
        },
        "outputId": "e83187b3-5acb-4d23-97d7-5a96f03e6ef1"
      },
      "source": [
        "# Max Length of source sequence\n",
        "import numpy as np\n",
        "lenght_list=[]\n",
        "for l in lines.eng:\n",
        "    lenght_list.append(len(l.split(' ')))\n",
        "max_length_src = np.max(lenght_list)\n",
        "max_length_src"
      ],
      "execution_count": 16,
      "outputs": [
        {
          "output_type": "execute_result",
          "data": {
            "text/plain": [
              "7"
            ]
          },
          "metadata": {
            "tags": []
          },
          "execution_count": 16
        }
      ]
    },
    {
      "cell_type": "code",
      "metadata": {
        "id": "NKYTzcsw-Jls",
        "colab_type": "code",
        "colab": {
          "base_uri": "https://localhost:8080/",
          "height": 34
        },
        "outputId": "d466ca82-608d-4dc4-f876-13ceff3fe4cf"
      },
      "source": [
        "# Max Length of target sequence\n",
        "lenght_list=[]\n",
        "for l in lines.deu:\n",
        "    lenght_list.append(len(l.split(' ')))\n",
        "max_length_tar = np.max(lenght_list)\n",
        "max_length_tar"
      ],
      "execution_count": 17,
      "outputs": [
        {
          "output_type": "execute_result",
          "data": {
            "text/plain": [
              "19"
            ]
          },
          "metadata": {
            "tags": []
          },
          "execution_count": 17
        }
      ]
    },
    {
      "cell_type": "code",
      "metadata": {
        "id": "z8TUTnn4AC9c",
        "colab_type": "code",
        "colab": {
          "base_uri": "https://localhost:8080/",
          "height": 34
        },
        "outputId": "c28d4d46-9e2a-4b67-f8b6-39a74e878c66"
      },
      "source": [
        "input_words = sorted(list(all_eng_words))\n",
        "target_words = sorted(list(all_german_words))\n",
        "num_encoder_tokens = len(all_eng_words)\n",
        "num_decoder_tokens = len(all_german_words)\n",
        "num_encoder_tokens, num_decoder_tokens"
      ],
      "execution_count": 18,
      "outputs": [
        {
          "output_type": "execute_result",
          "data": {
            "text/plain": [
              "(6278, 10611)"
            ]
          },
          "metadata": {
            "tags": []
          },
          "execution_count": 18
        }
      ]
    },
    {
      "cell_type": "code",
      "metadata": {
        "id": "G06K661ZADAo",
        "colab_type": "code",
        "colab": {
          "base_uri": "https://localhost:8080/",
          "height": 34
        },
        "outputId": "21113dd0-751c-4d45-a1e5-40c7bd71609b"
      },
      "source": [
        "num_decoder_tokens += 1 # For zero padding\n",
        "num_decoder_tokens"
      ],
      "execution_count": 19,
      "outputs": [
        {
          "output_type": "execute_result",
          "data": {
            "text/plain": [
              "10612"
            ]
          },
          "metadata": {
            "tags": []
          },
          "execution_count": 19
        }
      ]
    },
    {
      "cell_type": "code",
      "metadata": {
        "id": "pw2TwZh6ADGE",
        "colab_type": "code",
        "colab": {}
      },
      "source": [
        "input_token_index = dict([(word, i+1) for i, word in enumerate(input_words)])\n",
        "target_token_index = dict([(word, i+1) for i, word in enumerate(target_words)])"
      ],
      "execution_count": 0,
      "outputs": []
    },
    {
      "cell_type": "code",
      "metadata": {
        "id": "3_DwM1HCADJk",
        "colab_type": "code",
        "colab": {}
      },
      "source": [
        "reverse_input_char_index = dict((i, word) for word, i in input_token_index.items())\n",
        "reverse_target_char_index = dict((i, word) for word, i in target_token_index.items())"
      ],
      "execution_count": 0,
      "outputs": []
    },
    {
      "cell_type": "code",
      "metadata": {
        "id": "iOxehTLEADDT",
        "colab_type": "code",
        "colab": {
          "base_uri": "https://localhost:8080/",
          "height": 343
        },
        "outputId": "be1e3e6f-affe-4794-df96-68e27819ead9"
      },
      "source": [
        "lines = shuffle(lines)\n",
        "lines.head(10)"
      ],
      "execution_count": 22,
      "outputs": [
        {
          "output_type": "execute_result",
          "data": {
            "text/html": [
              "<div>\n",
              "<style scoped>\n",
              "    .dataframe tbody tr th:only-of-type {\n",
              "        vertical-align: middle;\n",
              "    }\n",
              "\n",
              "    .dataframe tbody tr th {\n",
              "        vertical-align: top;\n",
              "    }\n",
              "\n",
              "    .dataframe thead th {\n",
              "        text-align: right;\n",
              "    }\n",
              "</style>\n",
              "<table border=\"1\" class=\"dataframe\">\n",
              "  <thead>\n",
              "    <tr style=\"text-align: right;\">\n",
              "      <th></th>\n",
              "      <th>eng</th>\n",
              "      <th>deu</th>\n",
              "    </tr>\n",
              "  </thead>\n",
              "  <tbody>\n",
              "    <tr>\n",
              "      <th>14628</th>\n",
              "      <td>is tom at school</td>\n",
              "      <td>START_ ist tom in der schule _END</td>\n",
              "    </tr>\n",
              "    <tr>\n",
              "      <th>32136</th>\n",
              "      <td>tom isnt listening</td>\n",
              "      <td>START_ tom hört nicht zu _END</td>\n",
              "    </tr>\n",
              "    <tr>\n",
              "      <th>8197</th>\n",
              "      <td>tom gave blood</td>\n",
              "      <td>START_ tom hat mit blut bezahlt _END</td>\n",
              "    </tr>\n",
              "    <tr>\n",
              "      <th>2168</th>\n",
              "      <td>is it toms</td>\n",
              "      <td>START_ ist es toms _END</td>\n",
              "    </tr>\n",
              "    <tr>\n",
              "      <th>9686</th>\n",
              "      <td>green suits you</td>\n",
              "      <td>START_ grün steht euch _END</td>\n",
              "    </tr>\n",
              "    <tr>\n",
              "      <th>39654</th>\n",
              "      <td>youve put on weight</td>\n",
              "      <td>START_ ihr habt zugenommen _END</td>\n",
              "    </tr>\n",
              "    <tr>\n",
              "      <th>31811</th>\n",
              "      <td>tom disappointed me</td>\n",
              "      <td>START_ tom hat mich enttäuscht _END</td>\n",
              "    </tr>\n",
              "    <tr>\n",
              "      <th>40393</th>\n",
              "      <td>every dog has his day</td>\n",
              "      <td>START_ auch ein blindes huhn findet mal ein korn _END</td>\n",
              "    </tr>\n",
              "    <tr>\n",
              "      <th>6363</th>\n",
              "      <td>are you two ok</td>\n",
              "      <td>START_ seid ihr beide in ordnung _END</td>\n",
              "    </tr>\n",
              "    <tr>\n",
              "      <th>45097</th>\n",
              "      <td>we must work together</td>\n",
              "      <td>START_ wir müssen zusammenarbeiten _END</td>\n",
              "    </tr>\n",
              "  </tbody>\n",
              "</table>\n",
              "</div>"
            ],
            "text/plain": [
              "                         eng                                                    deu\n",
              "14628       is tom at school                      START_ ist tom in der schule _END\n",
              "32136     tom isnt listening                          START_ tom hört nicht zu _END\n",
              "8197          tom gave blood                   START_ tom hat mit blut bezahlt _END\n",
              "2168              is it toms                                START_ ist es toms _END\n",
              "9686         green suits you                            START_ grün steht euch _END\n",
              "39654    youve put on weight                        START_ ihr habt zugenommen _END\n",
              "31811    tom disappointed me                    START_ tom hat mich enttäuscht _END\n",
              "40393  every dog has his day  START_ auch ein blindes huhn findet mal ein korn _END\n",
              "6363          are you two ok                  START_ seid ihr beide in ordnung _END\n",
              "45097  we must work together                START_ wir müssen zusammenarbeiten _END"
            ]
          },
          "metadata": {
            "tags": []
          },
          "execution_count": 22
        }
      ]
    },
    {
      "cell_type": "code",
      "metadata": {
        "id": "kj_K6FfeAeYC",
        "colab_type": "code",
        "colab": {
          "base_uri": "https://localhost:8080/",
          "height": 34
        },
        "outputId": "35200ecd-b482-4858-cdee-ded462d462d0"
      },
      "source": [
        "# Train - Test Split\n",
        "X, y = lines.eng, lines.deu\n",
        "X_train, X_test, y_train, y_test = train_test_split(X, y, test_size = 0.1)\n",
        "X_train.shape, X_test.shape"
      ],
      "execution_count": 23,
      "outputs": [
        {
          "output_type": "execute_result",
          "data": {
            "text/plain": [
              "((45000,), (5000,))"
            ]
          },
          "metadata": {
            "tags": []
          },
          "execution_count": 23
        }
      ]
    },
    {
      "cell_type": "markdown",
      "metadata": {
        "id": "LZYt7v-fCOQt",
        "colab_type": "text"
      },
      "source": [
        "**Save the train and test dataframes for reproducing the results later, as they are shuffled**"
      ]
    },
    {
      "cell_type": "code",
      "metadata": {
        "id": "GvpxI3i7A3BT",
        "colab_type": "code",
        "colab": {}
      },
      "source": [
        "X_train.to_pickle('X_train.pkl')\n",
        "X_test.to_pickle('X_test.pkl')"
      ],
      "execution_count": 0,
      "outputs": []
    },
    {
      "cell_type": "code",
      "metadata": {
        "id": "f99GUE2iA3E5",
        "colab_type": "code",
        "colab": {}
      },
      "source": [
        "def generate_batch(X = X_train, y = y_train, batch_size = 128):\n",
        "    ''' Generate a batch of data '''\n",
        "    while True:\n",
        "        for j in range(0, len(X), batch_size):\n",
        "            encoder_input_data = np.zeros((batch_size, max_length_src),dtype='float32')\n",
        "            decoder_input_data = np.zeros((batch_size, max_length_tar),dtype='float32')\n",
        "            decoder_target_data = np.zeros((batch_size, max_length_tar, num_decoder_tokens),dtype='float32')\n",
        "            for i, (input_text, target_text) in enumerate(zip(X[j:j+batch_size], y[j:j+batch_size])):\n",
        "                for t, word in enumerate(input_text.split()):\n",
        "                    encoder_input_data[i, t] = input_token_index[word] # encoder input seq\n",
        "                for t, word in enumerate(target_text.split()):\n",
        "                    if t<len(target_text.split())-1:\n",
        "                        decoder_input_data[i, t] = target_token_index[word] # decoder input seq\n",
        "                    if t>0:\n",
        "                        # decoder target sequence (one hot encoded)\n",
        "                        # does not include the START_ token\n",
        "                        # Offset by one timestep\n",
        "                        decoder_target_data[i, t - 1, target_token_index[word]] = 1.\n",
        "            yield([encoder_input_data, decoder_input_data], decoder_target_data)"
      ],
      "execution_count": 0,
      "outputs": []
    },
    {
      "cell_type": "markdown",
      "metadata": {
        "id": "G_MQxfbrCj_E",
        "colab_type": "text"
      },
      "source": [
        "# Encoder - Decoder Model Architecture"
      ]
    },
    {
      "cell_type": "code",
      "metadata": {
        "id": "WAKup9U3A3II",
        "colab_type": "code",
        "colab": {}
      },
      "source": [
        "latent_dim = 50"
      ],
      "execution_count": 0,
      "outputs": []
    },
    {
      "cell_type": "code",
      "metadata": {
        "id": "NVWXpjPeA3K4",
        "colab_type": "code",
        "colab": {
          "base_uri": "https://localhost:8080/",
          "height": 188
        },
        "outputId": "992cbd8c-dc35-415b-c935-785a36f86b48"
      },
      "source": [
        "# Encoder\n",
        "encoder_inputs = Input(shape=(None,))\n",
        "enc_emb =  Embedding(num_encoder_tokens, latent_dim, mask_zero = True)(encoder_inputs)\n",
        "encoder_lstm = LSTM(latent_dim, return_state=True)\n",
        "encoder_outputs, state_h, state_c = encoder_lstm(enc_emb)\n",
        "# We discard `encoder_outputs` and only keep the states.\n",
        "encoder_states = [state_h, state_c]"
      ],
      "execution_count": 27,
      "outputs": [
        {
          "output_type": "stream",
          "text": [
            "WARNING:tensorflow:From /usr/local/lib/python3.6/dist-packages/keras/backend/tensorflow_backend.py:66: The name tf.get_default_graph is deprecated. Please use tf.compat.v1.get_default_graph instead.\n",
            "\n",
            "WARNING:tensorflow:From /usr/local/lib/python3.6/dist-packages/keras/backend/tensorflow_backend.py:541: The name tf.placeholder is deprecated. Please use tf.compat.v1.placeholder instead.\n",
            "\n",
            "WARNING:tensorflow:From /usr/local/lib/python3.6/dist-packages/keras/backend/tensorflow_backend.py:4432: The name tf.random_uniform is deprecated. Please use tf.random.uniform instead.\n",
            "\n",
            "WARNING:tensorflow:From /usr/local/lib/python3.6/dist-packages/keras/backend/tensorflow_backend.py:3239: add_dispatch_support.<locals>.wrapper (from tensorflow.python.ops.array_ops) is deprecated and will be removed in a future version.\n",
            "Instructions for updating:\n",
            "Use tf.where in 2.0, which has the same broadcast rule as np.where\n"
          ],
          "name": "stdout"
        }
      ]
    },
    {
      "cell_type": "code",
      "metadata": {
        "id": "y5NPVx5SAebD",
        "colab_type": "code",
        "colab": {}
      },
      "source": [
        "# Set up the decoder, using `encoder_states` as initial state.\n",
        "decoder_inputs = Input(shape=(None,))\n",
        "dec_emb_layer = Embedding(num_decoder_tokens, latent_dim, mask_zero = True)\n",
        "dec_emb = dec_emb_layer(decoder_inputs)\n",
        "# We set up our decoder to return full output sequences,\n",
        "# and to return internal states as well. We don't use the\n",
        "# return states in the training model, but we will use them in inference.\n",
        "decoder_lstm = LSTM(latent_dim, return_sequences=True, return_state=True)\n",
        "decoder_outputs, _, _ = decoder_lstm(dec_emb,\n",
        "                                     initial_state=encoder_states)\n",
        "decoder_dense = Dense(num_decoder_tokens, activation='softmax')\n",
        "decoder_outputs = decoder_dense(decoder_outputs)\n",
        "\n",
        "# Define the model that will turn\n",
        "# `encoder_input_data` & `decoder_input_data` into `decoder_target_data`\n",
        "model = Model([encoder_inputs, decoder_inputs], decoder_outputs)"
      ],
      "execution_count": 0,
      "outputs": []
    },
    {
      "cell_type": "code",
      "metadata": {
        "id": "jmJpG9LHAegu",
        "colab_type": "code",
        "colab": {
          "base_uri": "https://localhost:8080/",
          "height": 84
        },
        "outputId": "cb0057b1-24d9-4b00-b612-c7783af10512"
      },
      "source": [
        "model.compile(optimizer='rmsprop', loss='categorical_crossentropy', metrics=['acc'])"
      ],
      "execution_count": 29,
      "outputs": [
        {
          "output_type": "stream",
          "text": [
            "WARNING:tensorflow:From /usr/local/lib/python3.6/dist-packages/keras/optimizers.py:793: The name tf.train.Optimizer is deprecated. Please use tf.compat.v1.train.Optimizer instead.\n",
            "\n",
            "WARNING:tensorflow:From /usr/local/lib/python3.6/dist-packages/keras/backend/tensorflow_backend.py:3576: The name tf.log is deprecated. Please use tf.math.log instead.\n",
            "\n"
          ],
          "name": "stdout"
        }
      ]
    },
    {
      "cell_type": "code",
      "metadata": {
        "id": "ZYb2KO_TAepD",
        "colab_type": "code",
        "colab": {
          "base_uri": "https://localhost:8080/",
          "height": 275
        },
        "outputId": "53ad1299-bda5-48c2-c8ca-46b14c40feae"
      },
      "source": [
        "from IPython.display import Image\n",
        "Image(retina=True, filename='train.png')"
      ],
      "execution_count": 30,
      "outputs": [
        {
          "output_type": "execute_result",
          "data": {
            "image/png": "[encoded data removed]",
            "text/plain": [
              "<IPython.core.display.Image object>"
            ]
          },
          "metadata": {
            "tags": [],
            "image/png": {
              "width": 509,
              "height": 258
            }
          },
          "execution_count": 30
        }
      ]
    },
    {
      "cell_type": "code",
      "metadata": {
        "id": "dEJCmevEAesV",
        "colab_type": "code",
        "colab": {}
      },
      "source": [
        "train_samples = len(X_train)\n",
        "val_samples = len(X_test)\n",
        "batch_size = 128\n",
        "epochs = 15"
      ],
      "execution_count": 0,
      "outputs": []
    },
    {
      "cell_type": "code",
      "metadata": {
        "id": "bYQOjYpjEmfJ",
        "colab_type": "code",
        "colab": {
          "base_uri": "https://localhost:8080/",
          "height": 420
        },
        "outputId": "6ab7ee7a-76ba-4d0d-c966-72c20840949b"
      },
      "source": [
        "model.summary()"
      ],
      "execution_count": 36,
      "outputs": [
        {
          "output_type": "stream",
          "text": [
            "Model: \"model_1\"\n",
            "__________________________________________________________________________________________________\n",
            "Layer (type)                    Output Shape         Param #     Connected to                     \n",
            "==================================================================================================\n",
            "input_1 (InputLayer)            (None, None)         0                                            \n",
            "__________________________________________________________________________________________________\n",
            "input_2 (InputLayer)            (None, None)         0                                            \n",
            "__________________________________________________________________________________________________\n",
            "embedding_1 (Embedding)         (None, None, 50)     308000      input_1[0][0]                    \n",
            "__________________________________________________________________________________________________\n",
            "embedding_2 (Embedding)         (None, None, 50)     515850      input_2[0][0]                    \n",
            "__________________________________________________________________________________________________\n",
            "lstm_1 (LSTM)                   [(None, 50), (None,  20200       embedding_1[0][0]                \n",
            "__________________________________________________________________________________________________\n",
            "lstm_2 (LSTM)                   [(None, None, 50), ( 20200       embedding_2[0][0]                \n",
            "                                                                 lstm_1[0][1]                     \n",
            "                                                                 lstm_1[0][2]                     \n",
            "__________________________________________________________________________________________________\n",
            "dense_1 (Dense)                 (None, None, 10317)  526167      lstm_2[0][0]                     \n",
            "==================================================================================================\n",
            "Total params: 1,390,417\n",
            "Trainable params: 1,390,417\n",
            "Non-trainable params: 0\n",
            "__________________________________________________________________________________________________\n"
          ],
          "name": "stdout"
        }
      ]
    },
    {
      "cell_type": "code",
      "metadata": {
        "id": "8_dLHRGWAemn",
        "colab_type": "code",
        "colab": {
          "base_uri": "https://localhost:8080/",
          "height": 591
        },
        "outputId": "b6492324-8a0f-41b8-dcf2-0ec95f28a6af"
      },
      "source": [
        "model.fit_generator(generator = generate_batch(X_train, y_train, batch_size = batch_size),\n",
        "                    steps_per_epoch = train_samples//batch_size,\n",
        "                    epochs=epochs,\n",
        "                    validation_data = generate_batch(X_test, y_test, batch_size = batch_size),\n",
        "                    validation_steps = val_samples//batch_size)"
      ],
      "execution_count": 32,
      "outputs": [
        {
          "output_type": "stream",
          "text": [
            "WARNING:tensorflow:From /usr/local/lib/python3.6/dist-packages/keras/backend/tensorflow_backend.py:1033: The name tf.assign_add is deprecated. Please use tf.compat.v1.assign_add instead.\n",
            "\n",
            "Epoch 1/15\n",
            "351/351 [==============================] - 63s 181ms/step - loss: 5.7252 - acc: 0.2032 - val_loss: 5.0113 - val_acc: 0.2523\n",
            "Epoch 2/15\n",
            "351/351 [==============================] - 60s 172ms/step - loss: 4.6953 - acc: 0.2958 - val_loss: 4.4856 - val_acc: 0.3378\n",
            "Epoch 3/15\n",
            "351/351 [==============================] - 60s 172ms/step - loss: 4.2966 - acc: 0.3530 - val_loss: 4.1928 - val_acc: 0.3729\n",
            "Epoch 4/15\n",
            "351/351 [==============================] - 61s 172ms/step - loss: 4.0338 - acc: 0.3844 - val_loss: 3.9865 - val_acc: 0.3997\n",
            "Epoch 5/15\n",
            "351/351 [==============================] - 61s 172ms/step - loss: 3.8394 - acc: 0.4095 - val_loss: 3.8372 - val_acc: 0.4207\n",
            "Epoch 6/15\n",
            "351/351 [==============================] - 61s 173ms/step - loss: 3.6829 - acc: 0.4310 - val_loss: 3.6950 - val_acc: 0.4399\n",
            "Epoch 7/15\n",
            "351/351 [==============================] - 61s 174ms/step - loss: 3.5468 - acc: 0.4482 - val_loss: 3.5794 - val_acc: 0.4556\n",
            "Epoch 8/15\n",
            "351/351 [==============================] - 61s 173ms/step - loss: 3.4218 - acc: 0.4643 - val_loss: 3.4788 - val_acc: 0.4683\n",
            "Epoch 9/15\n",
            "351/351 [==============================] - 60s 171ms/step - loss: 3.3104 - acc: 0.4789 - val_loss: 3.3844 - val_acc: 0.4826\n",
            "Epoch 10/15\n",
            "351/351 [==============================] - 60s 171ms/step - loss: 3.2020 - acc: 0.4921 - val_loss: 3.3066 - val_acc: 0.4945\n",
            "Epoch 11/15\n",
            "351/351 [==============================] - 60s 171ms/step - loss: 3.1061 - acc: 0.5043 - val_loss: 3.2278 - val_acc: 0.5039\n",
            "Epoch 12/15\n",
            "351/351 [==============================] - 60s 172ms/step - loss: 3.0205 - acc: 0.5154 - val_loss: 3.1666 - val_acc: 0.5116\n",
            "Epoch 13/15\n",
            "351/351 [==============================] - 60s 171ms/step - loss: 2.9431 - acc: 0.5260 - val_loss: 3.1004 - val_acc: 0.5244\n",
            "Epoch 14/15\n",
            "351/351 [==============================] - 61s 174ms/step - loss: 2.8703 - acc: 0.5366 - val_loss: 3.0446 - val_acc: 0.5308\n",
            "Epoch 15/15\n",
            "351/351 [==============================] - 60s 172ms/step - loss: 2.7996 - acc: 0.5463 - val_loss: 3.0054 - val_acc: 0.5373\n"
          ],
          "name": "stdout"
        },
        {
          "output_type": "execute_result",
          "data": {
            "text/plain": [
              "<keras.callbacks.History at 0x7f5cec9fc1d0>"
            ]
          },
          "metadata": {
            "tags": []
          },
          "execution_count": 32
        }
      ]
    },
    {
      "cell_type": "code",
      "metadata": {
        "id": "S5p1pg6XAekB",
        "colab_type": "code",
        "colab": {}
      },
      "source": [
        "# save model\n",
        "model.save_weights('translate.h5')"
      ],
      "execution_count": 0,
      "outputs": []
    },
    {
      "cell_type": "code",
      "metadata": {
        "id": "Bg0C_Xo0Aedy",
        "colab_type": "code",
        "colab": {}
      },
      "source": [
        "model.load_weights('translate.h5')"
      ],
      "execution_count": 0,
      "outputs": []
    },
    {
      "cell_type": "markdown",
      "metadata": {
        "id": "5MuBJTzQNTVn",
        "colab_type": "text"
      },
      "source": [
        "# Inference Setup"
      ]
    },
    {
      "cell_type": "code",
      "metadata": {
        "id": "DYLNM2LFNMAp",
        "colab_type": "code",
        "colab": {}
      },
      "source": [
        "# Encode the input sequence to get the \"thought vectors\"\n",
        "encoder_model = Model(encoder_inputs, encoder_states)\n",
        "\n",
        "# Decoder setup\n",
        "# Below tensors will hold the states of the previous time step\n",
        "decoder_state_input_h = Input(shape=(latent_dim,))\n",
        "decoder_state_input_c = Input(shape=(latent_dim,))\n",
        "decoder_states_inputs = [decoder_state_input_h, decoder_state_input_c]\n",
        "\n",
        "dec_emb2= dec_emb_layer(decoder_inputs) # Get the embeddings of the decoder sequence\n",
        "\n",
        "# To predict the next word in the sequence, set the initial states to the states from the previous time step\n",
        "decoder_outputs2, state_h2, state_c2 = decoder_lstm(dec_emb2, initial_state=decoder_states_inputs)\n",
        "decoder_states2 = [state_h2, state_c2]\n",
        "decoder_outputs2 = decoder_dense(decoder_outputs2) # A dense softmax layer to generate prob dist. over the target vocabulary\n",
        "\n",
        "# Final decoder model\n",
        "decoder_model = Model(\n",
        "    [decoder_inputs] + decoder_states_inputs,\n",
        "    [decoder_outputs2] + decoder_states2)"
      ],
      "execution_count": 0,
      "outputs": []
    },
    {
      "cell_type": "markdown",
      "metadata": {
        "id": "yp5DWmhDNaSX",
        "colab_type": "text"
      },
      "source": [
        "# Decode sample sequeces"
      ]
    },
    {
      "cell_type": "code",
      "metadata": {
        "id": "qZnHAo2KNX1R",
        "colab_type": "code",
        "colab": {}
      },
      "source": [
        "def decode_sequence(input_seq):\n",
        "    # Encode the input as state vectors.\n",
        "    states_value = encoder_model.predict(input_seq)\n",
        "    # Generate empty target sequence of length 1.\n",
        "    target_seq = np.zeros((1,1))\n",
        "    # Populate the first character of target sequence with the start character.\n",
        "    target_seq[0, 0] = target_token_index['START_']\n",
        "\n",
        "    # Sampling loop for a batch of sequences\n",
        "    # (to simplify, here we assume a batch of size 1).\n",
        "    stop_condition = False\n",
        "    decoded_sentence = ''\n",
        "    while not stop_condition:\n",
        "        output_tokens, h, c = decoder_model.predict([target_seq] + states_value)\n",
        "\n",
        "        # Sample a token\n",
        "        sampled_token_index = np.argmax(output_tokens[0, -1, :])\n",
        "        sampled_char = reverse_target_char_index[sampled_token_index]\n",
        "        decoded_sentence += ' '+sampled_char\n",
        "\n",
        "        # Exit condition: either hit max length\n",
        "        # or find stop character.\n",
        "        if (sampled_char == '_END' or\n",
        "           len(decoded_sentence) > 50):\n",
        "            stop_condition = True\n",
        "\n",
        "        # Update the target sequence (of length 1).\n",
        "        target_seq = np.zeros((1,1))\n",
        "        target_seq[0, 0] = sampled_token_index\n",
        "\n",
        "        # Update states\n",
        "        states_value = [h, c]\n",
        "\n",
        "    return decoded_sentence"
      ],
      "execution_count": 0,
      "outputs": []
    },
    {
      "cell_type": "markdown",
      "metadata": {
        "id": "BmOR00fXNgFe",
        "colab_type": "text"
      },
      "source": [
        "# Evaluation on Train Dataset"
      ]
    },
    {
      "cell_type": "code",
      "metadata": {
        "id": "Vm_zRElrNd39",
        "colab_type": "code",
        "colab": {}
      },
      "source": [
        "train_gen = generate_batch(X_train, y_train, batch_size = 1)\n",
        "k=-1"
      ],
      "execution_count": 0,
      "outputs": []
    },
    {
      "cell_type": "code",
      "metadata": {
        "id": "gUFD9t9ENhbG",
        "colab_type": "code",
        "colab": {
          "base_uri": "https://localhost:8080/",
          "height": 67
        },
        "outputId": "e3a2e374-dc34-4d39-b768-4d9adee2a5f2"
      },
      "source": [
        "k+=1\n",
        "(input_seq, actual_output), _ = next(train_gen)\n",
        "decoded_sentence = decode_sequence(input_seq)\n",
        "print('Input English sentence:', X_train[k:k+1].values[0])\n",
        "print('Actual German Translation:', y_train[k:k+1].values[0][6:-4])\n",
        "print('Predicted German Translation:', decoded_sentence[:-4])"
      ],
      "execution_count": 40,
      "outputs": [
        {
          "output_type": "stream",
          "text": [
            "Input English sentence: how may i help you\n",
            "Actual German Translation:  wie darf ich dir helfen \n",
            "Predicted German Translation:  wie kann ich dich \n"
          ],
          "name": "stdout"
        }
      ]
    },
    {
      "cell_type": "code",
      "metadata": {
        "id": "x5j_RvtnNheP",
        "colab_type": "code",
        "colab": {}
      },
      "source": [
        ""
      ],
      "execution_count": 0,
      "outputs": []
    },
    {
      "cell_type": "code",
      "metadata": {
        "id": "t7KzAzWTNhhh",
        "colab_type": "code",
        "colab": {}
      },
      "source": [
        ""
      ],
      "execution_count": 0,
      "outputs": []
    },
    {
      "cell_type": "code",
      "metadata": {
        "id": "Ew_6eBkXNhkm",
        "colab_type": "code",
        "colab": {}
      },
      "source": [
        ""
      ],
      "execution_count": 0,
      "outputs": []
    }
  ]
}