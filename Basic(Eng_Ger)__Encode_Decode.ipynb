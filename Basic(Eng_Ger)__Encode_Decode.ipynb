{
  "nbformat": 4,
  "nbformat_minor": 0,
  "metadata": {
    "colab": {
      "name": "Basic(Eng_Ger)_ Encode-Decode.ipynb",
      "version": "0.3.2",
      "provenance": [],
      "collapsed_sections": []
    },
    "kernelspec": {
      "name": "python3",
      "display_name": "Python 3"
    },
    "accelerator": "GPU"
  },
  "cells": [
    {
      "cell_type": "markdown",
      "metadata": {
        "id": "QJxJLfT6m4zo",
        "colab_type": "text"
      },
      "source": [
        "# Machine Translation\n",
        "\n",
        "English-German Translation"
      ]
    },
    {
      "cell_type": "markdown",
      "metadata": {
        "id": "YvFSu3KOnCQI",
        "colab_type": "text"
      },
      "source": [
        "# 1)- Importing key modules"
      ]
    },
    {
      "cell_type": "code",
      "metadata": {
        "id": "ydSdCo4JzRta",
        "colab_type": "code",
        "colab": {}
      },
      "source": [
        "#support both Python 2 and Python 3 with minimal overhead.\n",
        "from __future__ import absolute_import, division, print_function\n",
        "#ignore warnings\n",
        "import warnings\n",
        "warnings.filterwarnings('ignore')"
      ],
      "execution_count": 0,
      "outputs": []
    },
    {
      "cell_type": "code",
      "metadata": {
        "id": "HXdjBXc-zNXe",
        "colab_type": "code",
        "colab": {}
      },
      "source": [
        "import string \n",
        "from string import digits\n",
        "import re \n",
        "from sklearn.utils import shuffle\n",
        "from numpy import array, argmax, random, take \n",
        "import pandas as pd \n",
        "import matplotlib.pyplot as plt \n",
        "% matplotlib inline \n",
        "pd.set_option('display.max_colwidth', 200)"
      ],
      "execution_count": 0,
      "outputs": []
    },
    {
      "cell_type": "code",
      "metadata": {
        "id": "ElRcz5K3hJrC",
        "colab_type": "code",
        "colab": {}
      },
      "source": [
        "from keras.models import Model\n",
        "from keras.models import Sequential \n",
        "from keras.layers import Dense, LSTM, Embedding,Input,RepeatVector\n",
        "from keras.preprocessing.text import Tokenizer\n",
        "from keras.callbacks import ModelCheckpoint \n",
        "from keras.preprocessing.sequence import pad_sequences\n",
        "from keras.models import load_model \n",
        "from keras import optimizers \n"
      ],
      "execution_count": 0,
      "outputs": []
    },
    {
      "cell_type": "markdown",
      "metadata": {
        "id": "XN_b91atnHye",
        "colab_type": "text"
      },
      "source": [
        "# 2)- Reading Dataset"
      ]
    },
    {
      "cell_type": "code",
      "metadata": {
        "id": "ZM1ZO53WhL_6",
        "colab_type": "code",
        "colab": {}
      },
      "source": [
        "lines= pd.read_table('deu.txt', names=['eng', 'deu'])"
      ],
      "execution_count": 0,
      "outputs": []
    },
    {
      "cell_type": "code",
      "metadata": {
        "id": "gws8XMBx-IfV",
        "colab_type": "code",
        "colab": {
          "base_uri": "https://localhost:8080/",
          "height": 34
        },
        "outputId": "62115d27-d67a-41e9-d344-6946dd7c7beb"
      },
      "source": [
        "lines.shape"
      ],
      "execution_count": 43,
      "outputs": [
        {
          "output_type": "execute_result",
          "data": {
            "text/plain": [
              "(195847, 2)"
            ]
          },
          "metadata": {
            "tags": []
          },
          "execution_count": 43
        }
      ]
    },
    {
      "cell_type": "code",
      "metadata": {
        "id": "GEvO1bfy-KKP",
        "colab_type": "code",
        "colab": {}
      },
      "source": [
        "# Lowercase all characters\n",
        "lines.eng=lines.eng.apply(lambda x: x.lower())\n",
        "lines.deu=lines.deu.apply(lambda x: x.lower())"
      ],
      "execution_count": 0,
      "outputs": []
    },
    {
      "cell_type": "code",
      "metadata": {
        "id": "9bLMfF59-KNX",
        "colab_type": "code",
        "colab": {}
      },
      "source": [
        "# Remove quotes\n",
        "lines.eng=lines.eng.apply(lambda x: re.sub(\"'\", '', x))\n",
        "lines.deu=lines.deu.apply(lambda x: re.sub(\"'\", '', x))"
      ],
      "execution_count": 0,
      "outputs": []
    },
    {
      "cell_type": "code",
      "metadata": {
        "id": "t-rYHNHd-KQK",
        "colab_type": "code",
        "colab": {}
      },
      "source": [
        "exclude = set(string.punctuation) # Set of all special characters\n",
        "# Remove all the special characters\n",
        "lines.eng=lines.eng.apply(lambda x: ''.join(ch for ch in x if ch not in exclude))\n",
        "lines.deu=lines.deu.apply(lambda x: ''.join(ch for ch in x if ch not in exclude))"
      ],
      "execution_count": 0,
      "outputs": []
    },
    {
      "cell_type": "code",
      "metadata": {
        "id": "bWGhz8JG-KVi",
        "colab_type": "code",
        "colab": {}
      },
      "source": [
        "# Remove all numbers from text\n",
        "remove_digits = str.maketrans('', '', digits)\n",
        "lines.eng=lines.eng.apply(lambda x: x.translate(remove_digits))\n",
        "lines.deu=lines.deu.apply(lambda x: x.translate(remove_digits))"
      ],
      "execution_count": 0,
      "outputs": []
    },
    {
      "cell_type": "code",
      "metadata": {
        "id": "qCJnKqIY-KYm",
        "colab_type": "code",
        "colab": {}
      },
      "source": [
        "# Remove extra spaces\n",
        "lines.eng=lines.eng.apply(lambda x: x.strip())\n",
        "lines.deu=lines.deu.apply(lambda x: x.strip())\n",
        "lines.eng=lines.eng.apply(lambda x: re.sub(\" +\", \" \", x))\n",
        "lines.deu=lines.deu.apply(lambda x: re.sub(\" +\", \" \", x))"
      ],
      "execution_count": 0,
      "outputs": []
    },
    {
      "cell_type": "code",
      "metadata": {
        "id": "WBDIXrRH-KTf",
        "colab_type": "code",
        "colab": {}
      },
      "source": [
        "# Add start and end tokens to target sequences. I am not German so , I am doing so for my ease\n",
        "lines.deu = lines.mar.apply(lambda x : 'START_ '+ x + ' _END')"
      ],
      "execution_count": 0,
      "outputs": []
    },
    {
      "cell_type": "code",
      "metadata": {
        "id": "5slsI5P7-Ja-",
        "colab_type": "code",
        "colab": {
          "base_uri": "https://localhost:8080/",
          "height": 343
        },
        "outputId": "a9651ba1-ddef-4011-aee1-cdbccf5d121d"
      },
      "source": [
        "lines.sample(10)"
      ],
      "execution_count": 51,
      "outputs": [
        {
          "output_type": "execute_result",
          "data": {
            "text/html": [
              "<div>\n",
              "<style scoped>\n",
              "    .dataframe tbody tr th:only-of-type {\n",
              "        vertical-align: middle;\n",
              "    }\n",
              "\n",
              "    .dataframe tbody tr th {\n",
              "        vertical-align: top;\n",
              "    }\n",
              "\n",
              "    .dataframe thead th {\n",
              "        text-align: right;\n",
              "    }\n",
              "</style>\n",
              "<table border=\"1\" class=\"dataframe\">\n",
              "  <thead>\n",
              "    <tr style=\"text-align: right;\">\n",
              "      <th></th>\n",
              "      <th>eng</th>\n",
              "      <th>deu</th>\n",
              "    </tr>\n",
              "  </thead>\n",
              "  <tbody>\n",
              "    <tr>\n",
              "      <th>100893</th>\n",
              "      <td>tom treats me like a princess</td>\n",
              "      <td>START_ tom behandelt mich wie eine prinzessin. _END</td>\n",
              "    </tr>\n",
              "    <tr>\n",
              "      <th>82164</th>\n",
              "      <td>he is the taller of the two</td>\n",
              "      <td>START_ er ist der größere der beiden. _END</td>\n",
              "    </tr>\n",
              "    <tr>\n",
              "      <th>12155</th>\n",
              "      <td>tom sounded mad</td>\n",
              "      <td>START_ tom klang verrückt. _END</td>\n",
              "    </tr>\n",
              "    <tr>\n",
              "      <th>81198</th>\n",
              "      <td>a car passed by in the dark</td>\n",
              "      <td>START_ eine auto fuhr in der dunkelheit vorbei. _END</td>\n",
              "    </tr>\n",
              "    <tr>\n",
              "      <th>51534</th>\n",
              "      <td>tom went down the hill</td>\n",
              "      <td>START_ tom ging den hügel hinunter. _END</td>\n",
              "    </tr>\n",
              "    <tr>\n",
              "      <th>114086</th>\n",
              "      <td>tom switched off all the lights</td>\n",
              "      <td>START_ tom schaltete alle lichter aus. _END</td>\n",
              "    </tr>\n",
              "    <tr>\n",
              "      <th>149554</th>\n",
              "      <td>theyre thinking about getting married</td>\n",
              "      <td>START_ sie denken über heirat nach. _END</td>\n",
              "    </tr>\n",
              "    <tr>\n",
              "      <th>119376</th>\n",
              "      <td>think carefully before answering</td>\n",
              "      <td>START_ denk sorgfältig nach, bevor du antwortest! _END</td>\n",
              "    </tr>\n",
              "    <tr>\n",
              "      <th>127425</th>\n",
              "      <td>youre not going to understand it</td>\n",
              "      <td>START_ du wirst es nicht verstehen. _END</td>\n",
              "    </tr>\n",
              "    <tr>\n",
              "      <th>8656</th>\n",
              "      <td>tom was biased</td>\n",
              "      <td>START_ tom war voreingenommen. _END</td>\n",
              "    </tr>\n",
              "  </tbody>\n",
              "</table>\n",
              "</div>"
            ],
            "text/plain": [
              "                                          eng                                                     deu\n",
              "100893          tom treats me like a princess     START_ tom behandelt mich wie eine prinzessin. _END\n",
              "82164             he is the taller of the two              START_ er ist der größere der beiden. _END\n",
              "12155                         tom sounded mad                         START_ tom klang verrückt. _END\n",
              "81198             a car passed by in the dark    START_ eine auto fuhr in der dunkelheit vorbei. _END\n",
              "51534                  tom went down the hill                START_ tom ging den hügel hinunter. _END\n",
              "114086        tom switched off all the lights             START_ tom schaltete alle lichter aus. _END\n",
              "149554  theyre thinking about getting married                START_ sie denken über heirat nach. _END\n",
              "119376       think carefully before answering  START_ denk sorgfältig nach, bevor du antwortest! _END\n",
              "127425       youre not going to understand it                START_ du wirst es nicht verstehen. _END\n",
              "8656                           tom was biased                     START_ tom war voreingenommen. _END"
            ]
          },
          "metadata": {
            "tags": []
          },
          "execution_count": 51
        }
      ]
    },
    {
      "cell_type": "code",
      "metadata": {
        "id": "tum2mSmK-Jeq",
        "colab_type": "code",
        "colab": {}
      },
      "source": [
        "# Vocabulary of English\n",
        "all_eng_words=set()\n",
        "for eng in lines.eng:\n",
        "    for word in eng.split():\n",
        "        if word not in all_eng_words:\n",
        "            all_eng_words.add(word)\n",
        "# Vocabulary of German \n",
        "all_german_words=set()\n",
        "for ger in lines.mar:\n",
        "    for word in ger.split():\n",
        "        if word not in all_german_words:\n",
        "            all_german_words.add(word)"
      ],
      "execution_count": 0,
      "outputs": []
    },
    {
      "cell_type": "code",
      "metadata": {
        "id": "gGrnrWLw-Jhr",
        "colab_type": "code",
        "colab": {
          "base_uri": "https://localhost:8080/",
          "height": 34
        },
        "outputId": "dc6d0c41-0ab7-44fe-84af-892fc6625ec4"
      },
      "source": [
        "# Max Length of source sequence\n",
        "import numpy as np\n",
        "lenght_list=[]\n",
        "for l in lines.eng:\n",
        "    lenght_list.append(len(l.split(' ')))\n",
        "max_length_src = np.max(lenght_list)\n",
        "max_length_src"
      ],
      "execution_count": 55,
      "outputs": [
        {
          "output_type": "execute_result",
          "data": {
            "text/plain": [
              "101"
            ]
          },
          "metadata": {
            "tags": []
          },
          "execution_count": 55
        }
      ]
    },
    {
      "cell_type": "code",
      "metadata": {
        "id": "NKYTzcsw-Jls",
        "colab_type": "code",
        "colab": {
          "base_uri": "https://localhost:8080/",
          "height": 34
        },
        "outputId": "0b4eb898-e884-420a-a67e-024ae411d402"
      },
      "source": [
        "# Max Length of target sequence\n",
        "lenght_list=[]\n",
        "for l in lines.deu:\n",
        "    lenght_list.append(len(l.split(' ')))\n",
        "max_length_tar = np.max(lenght_list)\n",
        "max_length_tar"
      ],
      "execution_count": 56,
      "outputs": [
        {
          "output_type": "execute_result",
          "data": {
            "text/plain": [
              "77"
            ]
          },
          "metadata": {
            "tags": []
          },
          "execution_count": 56
        }
      ]
    },
    {
      "cell_type": "code",
      "metadata": {
        "id": "z8TUTnn4AC9c",
        "colab_type": "code",
        "colab": {
          "base_uri": "https://localhost:8080/",
          "height": 34
        },
        "outputId": "edc5922c-e087-4301-e24a-311afc144e94"
      },
      "source": [
        "input_words = sorted(list(all_eng_words))\n",
        "target_words = sorted(list(all_german_words))\n",
        "num_encoder_tokens = len(all_eng_words)\n",
        "num_decoder_tokens = len(all_german_words)\n",
        "num_encoder_tokens, num_decoder_tokens"
      ],
      "execution_count": 57,
      "outputs": [
        {
          "output_type": "execute_result",
          "data": {
            "text/plain": [
              "(15804, 54936)"
            ]
          },
          "metadata": {
            "tags": []
          },
          "execution_count": 57
        }
      ]
    },
    {
      "cell_type": "code",
      "metadata": {
        "id": "G06K661ZADAo",
        "colab_type": "code",
        "colab": {
          "base_uri": "https://localhost:8080/",
          "height": 34
        },
        "outputId": "7a0e926a-cbd9-4f02-8f76-ecd234168f5b"
      },
      "source": [
        "num_decoder_tokens += 1 # For zero padding\n",
        "num_decoder_tokens"
      ],
      "execution_count": 58,
      "outputs": [
        {
          "output_type": "execute_result",
          "data": {
            "text/plain": [
              "54937"
            ]
          },
          "metadata": {
            "tags": []
          },
          "execution_count": 58
        }
      ]
    },
    {
      "cell_type": "code",
      "metadata": {
        "id": "pw2TwZh6ADGE",
        "colab_type": "code",
        "colab": {}
      },
      "source": [
        "input_token_index = dict([(word, i+1) for i, word in enumerate(input_words)])\n",
        "target_token_index = dict([(word, i+1) for i, word in enumerate(target_words)])"
      ],
      "execution_count": 0,
      "outputs": []
    },
    {
      "cell_type": "code",
      "metadata": {
        "id": "3_DwM1HCADJk",
        "colab_type": "code",
        "colab": {}
      },
      "source": [
        "reverse_input_char_index = dict((i, word) for word, i in input_token_index.items())\n",
        "reverse_target_char_index = dict((i, word) for word, i in target_token_index.items())"
      ],
      "execution_count": 0,
      "outputs": []
    },
    {
      "cell_type": "code",
      "metadata": {
        "id": "iOxehTLEADDT",
        "colab_type": "code",
        "colab": {
          "base_uri": "https://localhost:8080/",
          "height": 343
        },
        "outputId": "42c05464-7e09-4233-fa5c-c4acdc8cfed1"
      },
      "source": [
        "lines = shuffle(lines)\n",
        "lines.head(10)"
      ],
      "execution_count": 61,
      "outputs": [
        {
          "output_type": "execute_result",
          "data": {
            "text/html": [
              "<div>\n",
              "<style scoped>\n",
              "    .dataframe tbody tr th:only-of-type {\n",
              "        vertical-align: middle;\n",
              "    }\n",
              "\n",
              "    .dataframe tbody tr th {\n",
              "        vertical-align: top;\n",
              "    }\n",
              "\n",
              "    .dataframe thead th {\n",
              "        text-align: right;\n",
              "    }\n",
              "</style>\n",
              "<table border=\"1\" class=\"dataframe\">\n",
              "  <thead>\n",
              "    <tr style=\"text-align: right;\">\n",
              "      <th></th>\n",
              "      <th>eng</th>\n",
              "      <th>deu</th>\n",
              "    </tr>\n",
              "  </thead>\n",
              "  <tbody>\n",
              "    <tr>\n",
              "      <th>77897</th>\n",
              "      <td>take the road on the right</td>\n",
              "      <td>START_ nehmen sie die rechte straße. _END</td>\n",
              "    </tr>\n",
              "    <tr>\n",
              "      <th>48972</th>\n",
              "      <td>its a book on animals</td>\n",
              "      <td>START_ das ist ein buch über tiere. _END</td>\n",
              "    </tr>\n",
              "    <tr>\n",
              "      <th>146603</th>\n",
              "      <td>would you help me carry this upstairs</td>\n",
              "      <td>START_ würdest du mir helfen, dies nach oben zu tragen? _END</td>\n",
              "    </tr>\n",
              "    <tr>\n",
              "      <th>55066</th>\n",
              "      <td>i wonder why he is late</td>\n",
              "      <td>START_ ich frage mich, wieso er zu spät ist. _END</td>\n",
              "    </tr>\n",
              "    <tr>\n",
              "      <th>13346</th>\n",
              "      <td>dont come again</td>\n",
              "      <td>START_ kommt nicht noch mal. _END</td>\n",
              "    </tr>\n",
              "    <tr>\n",
              "      <th>158678</th>\n",
              "      <td>he bought the picture for next to nothing</td>\n",
              "      <td>START_ er kaufte das bild zu einem spottpreis. _END</td>\n",
              "    </tr>\n",
              "    <tr>\n",
              "      <th>160431</th>\n",
              "      <td>theres a fine line between love and hate</td>\n",
              "      <td>START_ liebe und hass wohnen dicht beieinander. _END</td>\n",
              "    </tr>\n",
              "    <tr>\n",
              "      <th>178727</th>\n",
              "      <td>it seems that tom only eats fruits and vegetables</td>\n",
              "      <td>START_ tom isst anscheinend nur obst und gemüse. _END</td>\n",
              "    </tr>\n",
              "    <tr>\n",
              "      <th>53713</th>\n",
              "      <td>he put the luggage down</td>\n",
              "      <td>START_ er stellte das gepäck ab. _END</td>\n",
              "    </tr>\n",
              "    <tr>\n",
              "      <th>134449</th>\n",
              "      <td>id like to invite you to the party</td>\n",
              "      <td>START_ ich möchte sie zur party einladen. _END</td>\n",
              "    </tr>\n",
              "  </tbody>\n",
              "</table>\n",
              "</div>"
            ],
            "text/plain": [
              "                                                      eng                                                           deu\n",
              "77897                          take the road on the right                     START_ nehmen sie die rechte straße. _END\n",
              "48972                               its a book on animals                      START_ das ist ein buch über tiere. _END\n",
              "146603              would you help me carry this upstairs  START_ würdest du mir helfen, dies nach oben zu tragen? _END\n",
              "55066                             i wonder why he is late             START_ ich frage mich, wieso er zu spät ist. _END\n",
              "13346                                     dont come again                             START_ kommt nicht noch mal. _END\n",
              "158678          he bought the picture for next to nothing           START_ er kaufte das bild zu einem spottpreis. _END\n",
              "160431           theres a fine line between love and hate          START_ liebe und hass wohnen dicht beieinander. _END\n",
              "178727  it seems that tom only eats fruits and vegetables         START_ tom isst anscheinend nur obst und gemüse. _END\n",
              "53713                             he put the luggage down                         START_ er stellte das gepäck ab. _END\n",
              "134449                 id like to invite you to the party                START_ ich möchte sie zur party einladen. _END"
            ]
          },
          "metadata": {
            "tags": []
          },
          "execution_count": 61
        }
      ]
    },
    {
      "cell_type": "code",
      "metadata": {
        "id": "kj_K6FfeAeYC",
        "colab_type": "code",
        "colab": {}
      },
      "source": [
        ""
      ],
      "execution_count": 0,
      "outputs": []
    },
    {
      "cell_type": "code",
      "metadata": {
        "id": "GvpxI3i7A3BT",
        "colab_type": "code",
        "colab": {}
      },
      "source": [
        ""
      ],
      "execution_count": 0,
      "outputs": []
    },
    {
      "cell_type": "code",
      "metadata": {
        "id": "f99GUE2iA3E5",
        "colab_type": "code",
        "colab": {}
      },
      "source": [
        ""
      ],
      "execution_count": 0,
      "outputs": []
    },
    {
      "cell_type": "code",
      "metadata": {
        "id": "WAKup9U3A3II",
        "colab_type": "code",
        "colab": {}
      },
      "source": [
        ""
      ],
      "execution_count": 0,
      "outputs": []
    },
    {
      "cell_type": "code",
      "metadata": {
        "id": "NVWXpjPeA3K4",
        "colab_type": "code",
        "colab": {}
      },
      "source": [
        ""
      ],
      "execution_count": 0,
      "outputs": []
    },
    {
      "cell_type": "code",
      "metadata": {
        "id": "y5NPVx5SAebD",
        "colab_type": "code",
        "colab": {}
      },
      "source": [
        ""
      ],
      "execution_count": 0,
      "outputs": []
    },
    {
      "cell_type": "code",
      "metadata": {
        "id": "jmJpG9LHAegu",
        "colab_type": "code",
        "colab": {}
      },
      "source": [
        ""
      ],
      "execution_count": 0,
      "outputs": []
    },
    {
      "cell_type": "code",
      "metadata": {
        "id": "ZYb2KO_TAepD",
        "colab_type": "code",
        "colab": {}
      },
      "source": [
        ""
      ],
      "execution_count": 0,
      "outputs": []
    },
    {
      "cell_type": "code",
      "metadata": {
        "id": "dEJCmevEAesV",
        "colab_type": "code",
        "colab": {}
      },
      "source": [
        ""
      ],
      "execution_count": 0,
      "outputs": []
    },
    {
      "cell_type": "code",
      "metadata": {
        "id": "8_dLHRGWAemn",
        "colab_type": "code",
        "colab": {}
      },
      "source": [
        ""
      ],
      "execution_count": 0,
      "outputs": []
    },
    {
      "cell_type": "code",
      "metadata": {
        "id": "S5p1pg6XAekB",
        "colab_type": "code",
        "colab": {}
      },
      "source": [
        ""
      ],
      "execution_count": 0,
      "outputs": []
    },
    {
      "cell_type": "code",
      "metadata": {
        "id": "Bg0C_Xo0Aedy",
        "colab_type": "code",
        "colab": {}
      },
      "source": [
        ""
      ],
      "execution_count": 0,
      "outputs": []
    }
  ]
}