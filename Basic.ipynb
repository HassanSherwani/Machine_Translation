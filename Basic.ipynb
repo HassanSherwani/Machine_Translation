{
  "nbformat": 4,
  "nbformat_minor": 0,
  "metadata": {
    "colab": {
      "name": "Basic.ipynb",
      "version": "0.3.2",
      "provenance": [],
      "collapsed_sections": []
    },
    "kernelspec": {
      "name": "python3",
      "display_name": "Python 3"
    },
    "accelerator": "GPU"
  },
  "cells": [
    {
      "cell_type": "markdown",
      "metadata": {
        "id": "QJxJLfT6m4zo",
        "colab_type": "text"
      },
      "source": [
        "# Machine Translation\n",
        "\n",
        "German-English"
      ]
    },
    {
      "cell_type": "markdown",
      "metadata": {
        "id": "YvFSu3KOnCQI",
        "colab_type": "text"
      },
      "source": [
        "# 1)- Importing key modules"
      ]
    },
    {
      "cell_type": "code",
      "metadata": {
        "id": "ElRcz5K3hJrC",
        "colab_type": "code",
        "colab": {
          "base_uri": "https://localhost:8080/",
          "height": 34
        },
        "outputId": "806eb7a4-5191-4e9e-f810-be1f674938b5"
      },
      "source": [
        "import string \n",
        "import re \n",
        "from numpy import array, argmax, random, take \n",
        "import pandas as pd \n",
        "from keras.models import Sequential \n",
        "from keras.layers import Dense, LSTM, Embedding, RepeatVector\n",
        "from keras.preprocessing.text import Tokenizer\n",
        "from keras.callbacks import ModelCheckpoint \n",
        "from keras.preprocessing.sequence import pad_sequences\n",
        "from keras.models import load_model \n",
        "from keras import optimizers \n",
        "import matplotlib.pyplot as plt \n",
        "% matplotlib inline \n",
        "pd.set_option('display.max_colwidth', 200)"
      ],
      "execution_count": 1,
      "outputs": [
        {
          "output_type": "stream",
          "text": [
            "Using TensorFlow backend.\n"
          ],
          "name": "stderr"
        }
      ]
    },
    {
      "cell_type": "markdown",
      "metadata": {
        "id": "XN_b91atnHye",
        "colab_type": "text"
      },
      "source": [
        "# 2)- Reading Dataset"
      ]
    },
    {
      "cell_type": "code",
      "metadata": {
        "id": "ZM1ZO53WhL_6",
        "colab_type": "code",
        "colab": {}
      },
      "source": [
        "# function to read raw text file\n",
        "def read_text(filename): \n",
        "        # open the file \n",
        "        file = open(filename, mode='rt', encoding='utf-8') \n",
        "        \n",
        "        # read all text \n",
        "        text = file.read() \n",
        "        file.close() \n",
        "        return text"
      ],
      "execution_count": 0,
      "outputs": []
    },
    {
      "cell_type": "code",
      "metadata": {
        "id": "3nJ3NaVchcWb",
        "colab_type": "code",
        "colab": {}
      },
      "source": [
        "# split text into sentences \n",
        "def to_lines(text): \n",
        "      sents = text.strip().split('\\n') \n",
        "      sents = [i.split('\\t') for i in sents] \n",
        "      return sents"
      ],
      "execution_count": 0,
      "outputs": []
    },
    {
      "cell_type": "code",
      "metadata": {
        "id": "liHFTvu6hffX",
        "colab_type": "code",
        "colab": {}
      },
      "source": [
        "data = read_text(\"deu.txt\") \n",
        "deu_eng = to_lines(data) \n",
        "deu_eng = array(deu_eng)"
      ],
      "execution_count": 0,
      "outputs": []
    },
    {
      "cell_type": "code",
      "metadata": {
        "id": "1LoUaSevh0Z2",
        "colab_type": "code",
        "colab": {}
      },
      "source": [
        "deu_eng = deu_eng[:50000,:]"
      ],
      "execution_count": 0,
      "outputs": []
    },
    {
      "cell_type": "markdown",
      "metadata": {
        "id": "bX6QuO7xh6RK",
        "colab_type": "text"
      },
      "source": [
        "# 3)-Text Pre-Processing"
      ]
    },
    {
      "cell_type": "code",
      "metadata": {
        "id": "7ewE-nHLh3ph",
        "colab_type": "code",
        "colab": {
          "base_uri": "https://localhost:8080/",
          "height": 151
        },
        "outputId": "81895ad0-65ca-406a-8b92-d4220abf08b0"
      },
      "source": [
        "deu_eng"
      ],
      "execution_count": 6,
      "outputs": [
        {
          "output_type": "execute_result",
          "data": {
            "text/plain": [
              "array([['Hi.', 'Hallo!'],\n",
              "       ['Hi.', 'Grüß Gott!'],\n",
              "       ['Run!', 'Lauf!'],\n",
              "       ...,\n",
              "       ['The man died of cancer.', 'Der Mann starb an Krebs.'],\n",
              "       ['The man lay motionless.', 'Der Mann lag bewegungslos da.'],\n",
              "       ['The man must be insane.', 'Der Mann muss geistesgestört sein.']],\n",
              "      dtype='<U537')"
            ]
          },
          "metadata": {
            "tags": []
          },
          "execution_count": 6
        }
      ]
    },
    {
      "cell_type": "code",
      "metadata": {
        "id": "o1FK1T2Kicbi",
        "colab_type": "code",
        "colab": {
          "base_uri": "https://localhost:8080/",
          "height": 67
        },
        "outputId": "aad9ced4-cff2-4734-8699-7c75541c38bc"
      },
      "source": [
        "# for english part \n",
        "deu_eng[:,0]"
      ],
      "execution_count": 7,
      "outputs": [
        {
          "output_type": "execute_result",
          "data": {
            "text/plain": [
              "array(['Hi.', 'Hi.', 'Run!', ..., 'The man died of cancer.',\n",
              "       'The man lay motionless.', 'The man must be insane.'],\n",
              "      dtype='<U537')"
            ]
          },
          "metadata": {
            "tags": []
          },
          "execution_count": 7
        }
      ]
    },
    {
      "cell_type": "code",
      "metadata": {
        "id": "Z2CAJPD_ifVc",
        "colab_type": "code",
        "colab": {
          "base_uri": "https://localhost:8080/",
          "height": 67
        },
        "outputId": "74255f31-ef2e-4e1a-d636-d8ba9b0832f1"
      },
      "source": [
        "# for german part of lang.\n",
        "deu_eng[:,1]"
      ],
      "execution_count": 8,
      "outputs": [
        {
          "output_type": "execute_result",
          "data": {
            "text/plain": [
              "array(['Hallo!', 'Grüß Gott!', 'Lauf!', ..., 'Der Mann starb an Krebs.',\n",
              "       'Der Mann lag bewegungslos da.',\n",
              "       'Der Mann muss geistesgestört sein.'], dtype='<U537')"
            ]
          },
          "metadata": {
            "tags": []
          },
          "execution_count": 8
        }
      ]
    },
    {
      "cell_type": "markdown",
      "metadata": {
        "id": "GEia-m7ViPLD",
        "colab_type": "text"
      },
      "source": [
        "### 3.1)-Text cleaning"
      ]
    },
    {
      "cell_type": "code",
      "metadata": {
        "id": "WmC81k-wh8ZJ",
        "colab_type": "code",
        "colab": {}
      },
      "source": [
        "# Remove punctuation \n",
        "deu_eng[:,0] = [s.translate(str.maketrans('', '', string.punctuation)) for s in deu_eng[:,0]] \n",
        "deu_eng[:,1] = [s.translate(str.maketrans('', '', string.punctuation)) for s in deu_eng[:,1]] \n",
        "\n",
        "# convert text to lowercase \n",
        "for i in range(len(deu_eng)): \n",
        "    deu_eng[i,0] = deu_eng[i,0].lower() \n",
        "    deu_eng[i,1] = deu_eng[i,1].lower()"
      ],
      "execution_count": 0,
      "outputs": []
    },
    {
      "cell_type": "markdown",
      "metadata": {
        "id": "4FdyDdXwiS9i",
        "colab_type": "text"
      },
      "source": [
        "### 3.2)-Text to Sequence Conversion"
      ]
    },
    {
      "cell_type": "code",
      "metadata": {
        "id": "8pxu1-xNh8cA",
        "colab_type": "code",
        "colab": {
          "base_uri": "https://localhost:8080/",
          "height": 281
        },
        "outputId": "25636da6-ad9f-455c-d0b1-e405e8dccf49"
      },
      "source": [
        "# empty lists \n",
        "eng_l = [] \n",
        "deu_l = [] \n",
        "\n",
        "# populate the lists with sentence lengths \n",
        "for i in deu_eng[:,0]: \n",
        "      eng_l.append(len(i.split())) \n",
        "\n",
        "for i in deu_eng[:,1]: \n",
        "      deu_l.append(len(i.split())) \n",
        "\n",
        "length_df = pd.DataFrame({'eng':eng_l, 'deu':deu_l})\n",
        "length_df.hist(bins = 30) \n",
        "plt.show()"
      ],
      "execution_count": 10,
      "outputs": [
        {
          "output_type": "display_data",
          "data": {
            "image/png": "[encoded data removed]",
            "text/plain": [
              "<Figure size 432x288 with 2 Axes>"
            ]
          },
          "metadata": {
            "tags": []
          }
        }
      ]
    },
    {
      "cell_type": "markdown",
      "metadata": {
        "id": "Lpt6tCjfkGKu",
        "colab_type": "text"
      },
      "source": [
        "### 3.3)-vectorize our text data \n",
        "\n",
        "by using Keras’s Tokenizer()"
      ]
    },
    {
      "cell_type": "code",
      "metadata": {
        "id": "_j_y_uZ7h8e6",
        "colab_type": "code",
        "colab": {
          "base_uri": "https://localhost:8080/",
          "height": 34
        },
        "outputId": "878a76aa-5186-477b-bdb3-0eb835fe58d6"
      },
      "source": [
        "# function to build a tokenizer \n",
        "def tokenization(lines): \n",
        "      tokenizer = Tokenizer() \n",
        "      tokenizer.fit_on_texts(lines) \n",
        "      return tokenizer\n",
        "\n",
        "# prepare english tokenizer \n",
        "eng_tokenizer = tokenization(deu_eng[:, 0]) \n",
        "eng_vocab_size = len(eng_tokenizer.word_index) + 1 \n",
        "eng_length = 8 \n",
        "\n",
        "print('English Vocabulary Size: %d' % eng_vocab_size)\n",
        "\n",
        "\n",
        "\n"
      ],
      "execution_count": 11,
      "outputs": [
        {
          "output_type": "stream",
          "text": [
            "English Vocabulary Size: 6352\n"
          ],
          "name": "stdout"
        }
      ]
    },
    {
      "cell_type": "code",
      "metadata": {
        "id": "0ha_ZNySh8hh",
        "colab_type": "code",
        "colab": {
          "base_uri": "https://localhost:8080/",
          "height": 34
        },
        "outputId": "2f53ad55-b96e-4a57-aaaa-6cc8240d0955"
      },
      "source": [
        "# prepare Deutch tokenizer \n",
        "deu_tokenizer = tokenization(deu_eng[:, 1]) \n",
        "deu_vocab_size = len(deu_tokenizer.word_index) + 1 \n",
        "deu_length = 8 \n",
        "print('Deutch Vocabulary Size: %d' % deu_vocab_size)"
      ],
      "execution_count": 12,
      "outputs": [
        {
          "output_type": "stream",
          "text": [
            "Deutch Vocabulary Size: 10678\n"
          ],
          "name": "stdout"
        }
      ]
    },
    {
      "cell_type": "code",
      "metadata": {
        "id": "QElAizsykOtJ",
        "colab_type": "code",
        "colab": {}
      },
      "source": [
        "# encode and pad sequences \n",
        "def encode_sequences(tokenizer, length, lines):          \n",
        "         # integer encode sequences          \n",
        "         seq = tokenizer.texts_to_sequences(lines)          \n",
        "         # pad sequences with 0 values          \n",
        "         seq = pad_sequences(seq, maxlen=length, padding='post')           \n",
        "         return seq"
      ],
      "execution_count": 0,
      "outputs": []
    },
    {
      "cell_type": "markdown",
      "metadata": {
        "id": "408A3w7Ukb4r",
        "colab_type": "text"
      },
      "source": [
        "# 4)-Model Building"
      ]
    },
    {
      "cell_type": "markdown",
      "metadata": {
        "id": "kJF5iWUOnUgC",
        "colab_type": "text"
      },
      "source": [
        "### 4.1)- Train-test Split"
      ]
    },
    {
      "cell_type": "code",
      "metadata": {
        "id": "GzxozTM0kZk7",
        "colab_type": "code",
        "colab": {}
      },
      "source": [
        "from sklearn.model_selection import train_test_split \n",
        "\n",
        "# split data into train and test set \n",
        "train,test= train_test_split(deu_eng,test_size=0.2,random_state= 12)"
      ],
      "execution_count": 0,
      "outputs": []
    },
    {
      "cell_type": "markdown",
      "metadata": {
        "id": "xvyO7SdQkr88",
        "colab_type": "text"
      },
      "source": [
        "### 4.2)- Defining input and target\n",
        "We will encode German sentences as the input sequences and English sentences as the target sequences"
      ]
    },
    {
      "cell_type": "code",
      "metadata": {
        "id": "P6ZhWiJdkkb8",
        "colab_type": "code",
        "colab": {}
      },
      "source": [
        "# prepare training data \n",
        "trainX = encode_sequences(deu_tokenizer, deu_length, train[:, 1]) \n",
        "trainY = encode_sequences(eng_tokenizer, eng_length, train[:, 0]) \n",
        "\n",
        "# prepare validation data \n",
        "testX = encode_sequences(deu_tokenizer, deu_length, test[:, 1]) \n",
        "testY = encode_sequences(eng_tokenizer, eng_length, test[:, 0])"
      ],
      "execution_count": 0,
      "outputs": []
    },
    {
      "cell_type": "markdown",
      "metadata": {
        "id": "7ubte9AUngfx",
        "colab_type": "text"
      },
      "source": [
        "### 4.3)- build NMT model"
      ]
    },
    {
      "cell_type": "code",
      "metadata": {
        "id": "yORpCfMCkkjz",
        "colab_type": "code",
        "colab": {}
      },
      "source": [
        " def build_model(in_vocab,out_vocab, in_timesteps,out_timesteps,n):   \n",
        "      model = Sequential() \n",
        "      model.add(Embedding(in_vocab, n, input_length=in_timesteps,   \n",
        "      mask_zero=True)) \n",
        "      model.add(LSTM(n)) \n",
        "      model.add(RepeatVector(out_timesteps)) \n",
        "      model.add(LSTM(n, return_sequences=True))  \n",
        "      model.add(Dense(out_vocab, activation='softmax')) \n",
        "      return model"
      ],
      "execution_count": 0,
      "outputs": []
    },
    {
      "cell_type": "code",
      "metadata": {
        "id": "H_0LMdC6lgnp",
        "colab_type": "code",
        "colab": {
          "base_uri": "https://localhost:8080/",
          "height": 255
        },
        "outputId": "0220f442-d902-4eca-da1c-170b687bdff1"
      },
      "source": [
        "# model compilation (with 512 hidden units)\n",
        "model = build_model(deu_vocab_size, eng_vocab_size, deu_length, eng_length, 512)\n",
        "\n",
        "rms = optimizers.RMSprop(lr=0.001) \n",
        "model.compile(optimizer=rms, loss='sparse_categorical_crossentropy')"
      ],
      "execution_count": 17,
      "outputs": [
        {
          "output_type": "stream",
          "text": [
            "WARNING:tensorflow:From /usr/local/lib/python3.6/dist-packages/keras/backend/tensorflow_backend.py:66: The name tf.get_default_graph is deprecated. Please use tf.compat.v1.get_default_graph instead.\n",
            "\n",
            "WARNING:tensorflow:From /usr/local/lib/python3.6/dist-packages/keras/backend/tensorflow_backend.py:541: The name tf.placeholder is deprecated. Please use tf.compat.v1.placeholder instead.\n",
            "\n",
            "WARNING:tensorflow:From /usr/local/lib/python3.6/dist-packages/keras/backend/tensorflow_backend.py:4432: The name tf.random_uniform is deprecated. Please use tf.random.uniform instead.\n",
            "\n",
            "WARNING:tensorflow:From /usr/local/lib/python3.6/dist-packages/keras/backend/tensorflow_backend.py:3239: add_dispatch_support.<locals>.wrapper (from tensorflow.python.ops.array_ops) is deprecated and will be removed in a future version.\n",
            "Instructions for updating:\n",
            "Use tf.where in 2.0, which has the same broadcast rule as np.where\n",
            "WARNING:tensorflow:From /usr/local/lib/python3.6/dist-packages/keras/optimizers.py:793: The name tf.train.Optimizer is deprecated. Please use tf.compat.v1.train.Optimizer instead.\n",
            "\n",
            "WARNING:tensorflow:From /usr/local/lib/python3.6/dist-packages/keras/backend/tensorflow_backend.py:3622: The name tf.log is deprecated. Please use tf.math.log instead.\n",
            "\n"
          ],
          "name": "stdout"
        }
      ]
    },
    {
      "cell_type": "code",
      "metadata": {
        "id": "9M1ukVFAlkFz",
        "colab_type": "code",
        "colab": {
          "base_uri": "https://localhost:8080/",
          "height": 1000
        },
        "outputId": "fca8f2e2-ed64-4151-bf60-17c6bad07468"
      },
      "source": [
        "filename = 'model.h1.24_jan_19' \n",
        "\n",
        "# set checkpoint\n",
        "checkpoint = ModelCheckpoint(filename, monitor='val_loss',  \n",
        "                             verbose=1, save_best_only=True, \n",
        "                             mode='min') \n",
        "\n",
        "\n",
        "# train model \n",
        "history = model.fit(trainX, trainY.reshape(trainY.shape[0], trainY.shape[1], 1), \n",
        "                    epochs=30, batch_size=512, validation_split = 0.2, \n",
        "                    callbacks=[checkpoint], verbose=1)"
      ],
      "execution_count": 18,
      "outputs": [
        {
          "output_type": "stream",
          "text": [
            "WARNING:tensorflow:From /usr/local/lib/python3.6/dist-packages/keras/backend/tensorflow_backend.py:1033: The name tf.assign_add is deprecated. Please use tf.compat.v1.assign_add instead.\n",
            "\n",
            "Train on 32000 samples, validate on 8000 samples\n",
            "Epoch 1/30\n",
            "32000/32000 [==============================] - 13s 404us/step - loss: 3.5509 - val_loss: 3.0272\n",
            "\n",
            "Epoch 00001: val_loss improved from inf to 3.02724, saving model to model.h1.24_jan_19\n",
            "Epoch 2/30\n",
            "32000/32000 [==============================] - 7s 231us/step - loss: 2.8977 - val_loss: 2.8670\n",
            "\n",
            "Epoch 00002: val_loss improved from 3.02724 to 2.86699, saving model to model.h1.24_jan_19\n",
            "Epoch 3/30\n",
            "32000/32000 [==============================] - 7s 233us/step - loss: 2.7222 - val_loss: 2.7533\n",
            "\n",
            "Epoch 00003: val_loss improved from 2.86699 to 2.75331, saving model to model.h1.24_jan_19\n",
            "Epoch 4/30\n",
            "32000/32000 [==============================] - 8s 234us/step - loss: 2.5472 - val_loss: 2.5591\n",
            "\n",
            "Epoch 00004: val_loss improved from 2.75331 to 2.55912, saving model to model.h1.24_jan_19\n",
            "Epoch 5/30\n",
            "32000/32000 [==============================] - 8s 237us/step - loss: 2.3915 - val_loss: 2.4203\n",
            "\n",
            "Epoch 00005: val_loss improved from 2.55912 to 2.42031, saving model to model.h1.24_jan_19\n",
            "Epoch 6/30\n",
            "32000/32000 [==============================] - 8s 240us/step - loss: 2.2541 - val_loss: 2.3152\n",
            "\n",
            "Epoch 00006: val_loss improved from 2.42031 to 2.31516, saving model to model.h1.24_jan_19\n",
            "Epoch 7/30\n",
            "32000/32000 [==============================] - 8s 240us/step - loss: 2.1289 - val_loss: 2.2435\n",
            "\n",
            "Epoch 00007: val_loss improved from 2.31516 to 2.24352, saving model to model.h1.24_jan_19\n",
            "Epoch 8/30\n",
            "32000/32000 [==============================] - 8s 243us/step - loss: 2.0157 - val_loss: 2.1443\n",
            "\n",
            "Epoch 00008: val_loss improved from 2.24352 to 2.14428, saving model to model.h1.24_jan_19\n",
            "Epoch 9/30\n",
            "32000/32000 [==============================] - 8s 240us/step - loss: 1.9030 - val_loss: 2.0848\n",
            "\n",
            "Epoch 00009: val_loss improved from 2.14428 to 2.08476, saving model to model.h1.24_jan_19\n",
            "Epoch 10/30\n",
            "32000/32000 [==============================] - 8s 238us/step - loss: 1.7973 - val_loss: 2.0257\n",
            "\n",
            "Epoch 00010: val_loss improved from 2.08476 to 2.02565, saving model to model.h1.24_jan_19\n",
            "Epoch 11/30\n",
            "32000/32000 [==============================] - 8s 238us/step - loss: 1.6946 - val_loss: 1.9397\n",
            "\n",
            "Epoch 00011: val_loss improved from 2.02565 to 1.93974, saving model to model.h1.24_jan_19\n",
            "Epoch 12/30\n",
            "32000/32000 [==============================] - 8s 237us/step - loss: 1.5962 - val_loss: 1.8793\n",
            "\n",
            "Epoch 00012: val_loss improved from 1.93974 to 1.87926, saving model to model.h1.24_jan_19\n",
            "Epoch 13/30\n",
            "32000/32000 [==============================] - 8s 235us/step - loss: 1.5044 - val_loss: 1.8320\n",
            "\n",
            "Epoch 00013: val_loss improved from 1.87926 to 1.83196, saving model to model.h1.24_jan_19\n",
            "Epoch 14/30\n",
            "32000/32000 [==============================] - 8s 236us/step - loss: 1.4157 - val_loss: 1.7793\n",
            "\n",
            "Epoch 00014: val_loss improved from 1.83196 to 1.77927, saving model to model.h1.24_jan_19\n",
            "Epoch 15/30\n",
            "32000/32000 [==============================] - 8s 237us/step - loss: 1.3313 - val_loss: 1.7183\n",
            "\n",
            "Epoch 00015: val_loss improved from 1.77927 to 1.71825, saving model to model.h1.24_jan_19\n",
            "Epoch 16/30\n",
            "32000/32000 [==============================] - 8s 237us/step - loss: 1.2480 - val_loss: 1.6871\n",
            "\n",
            "Epoch 00016: val_loss improved from 1.71825 to 1.68706, saving model to model.h1.24_jan_19\n",
            "Epoch 17/30\n",
            "32000/32000 [==============================] - 8s 236us/step - loss: 1.1700 - val_loss: 1.6361\n",
            "\n",
            "Epoch 00017: val_loss improved from 1.68706 to 1.63614, saving model to model.h1.24_jan_19\n",
            "Epoch 18/30\n",
            "32000/32000 [==============================] - 8s 239us/step - loss: 1.0918 - val_loss: 1.6023\n",
            "\n",
            "Epoch 00018: val_loss improved from 1.63614 to 1.60232, saving model to model.h1.24_jan_19\n",
            "Epoch 19/30\n",
            "32000/32000 [==============================] - 8s 238us/step - loss: 1.0211 - val_loss: 1.5988\n",
            "\n",
            "Epoch 00019: val_loss improved from 1.60232 to 1.59875, saving model to model.h1.24_jan_19\n",
            "Epoch 20/30\n",
            "32000/32000 [==============================] - 8s 240us/step - loss: 0.9519 - val_loss: 1.5455\n",
            "\n",
            "Epoch 00020: val_loss improved from 1.59875 to 1.54546, saving model to model.h1.24_jan_19\n",
            "Epoch 21/30\n",
            "32000/32000 [==============================] - 8s 239us/step - loss: 0.8854 - val_loss: 1.5301\n",
            "\n",
            "Epoch 00021: val_loss improved from 1.54546 to 1.53012, saving model to model.h1.24_jan_19\n",
            "Epoch 22/30\n",
            "32000/32000 [==============================] - 8s 238us/step - loss: 0.8244 - val_loss: 1.4937\n",
            "\n",
            "Epoch 00022: val_loss improved from 1.53012 to 1.49366, saving model to model.h1.24_jan_19\n",
            "Epoch 23/30\n",
            "32000/32000 [==============================] - 8s 238us/step - loss: 0.7644 - val_loss: 1.4750\n",
            "\n",
            "Epoch 00023: val_loss improved from 1.49366 to 1.47502, saving model to model.h1.24_jan_19\n",
            "Epoch 24/30\n",
            "32000/32000 [==============================] - 8s 236us/step - loss: 0.7064 - val_loss: 1.4859\n",
            "\n",
            "Epoch 00024: val_loss did not improve from 1.47502\n",
            "Epoch 25/30\n",
            "32000/32000 [==============================] - 8s 236us/step - loss: 0.6529 - val_loss: 1.4502\n",
            "\n",
            "Epoch 00025: val_loss improved from 1.47502 to 1.45023, saving model to model.h1.24_jan_19\n",
            "Epoch 26/30\n",
            "32000/32000 [==============================] - 8s 237us/step - loss: 0.6024 - val_loss: 1.4383\n",
            "\n",
            "Epoch 00026: val_loss improved from 1.45023 to 1.43826, saving model to model.h1.24_jan_19\n",
            "Epoch 27/30\n",
            "32000/32000 [==============================] - 8s 237us/step - loss: 0.5566 - val_loss: 1.4205\n",
            "\n",
            "Epoch 00027: val_loss improved from 1.43826 to 1.42054, saving model to model.h1.24_jan_19\n",
            "Epoch 28/30\n",
            "32000/32000 [==============================] - 8s 237us/step - loss: 0.5117 - val_loss: 1.4152\n",
            "\n",
            "Epoch 00028: val_loss improved from 1.42054 to 1.41518, saving model to model.h1.24_jan_19\n",
            "Epoch 29/30\n",
            "32000/32000 [==============================] - 8s 237us/step - loss: 0.4688 - val_loss: 1.4039\n",
            "\n",
            "Epoch 00029: val_loss improved from 1.41518 to 1.40390, saving model to model.h1.24_jan_19\n",
            "Epoch 30/30\n",
            "32000/32000 [==============================] - 8s 237us/step - loss: 0.4303 - val_loss: 1.4036\n",
            "\n",
            "Epoch 00030: val_loss improved from 1.40390 to 1.40359, saving model to model.h1.24_jan_19\n"
          ],
          "name": "stdout"
        }
      ]
    },
    {
      "cell_type": "markdown",
      "metadata": {
        "id": "nwrL0_sjmUuO",
        "colab_type": "text"
      },
      "source": [
        "# 5)-Plotting results"
      ]
    },
    {
      "cell_type": "code",
      "metadata": {
        "id": "iUYdtjQXlupF",
        "colab_type": "code",
        "colab": {
          "base_uri": "https://localhost:8080/",
          "height": 269
        },
        "outputId": "d0804304-0469-4dd4-8ff9-59530dd854cd"
      },
      "source": [
        "plt.plot(history.history['loss']) \n",
        "plt.plot(history.history['val_loss']) \n",
        "plt.legend(['train','validation']) \n",
        "plt.show()"
      ],
      "execution_count": 20,
      "outputs": [
        {
          "output_type": "display_data",
          "data": {
            "image/png": "[encoded data removed]",
            "text/plain": [
              "<Figure size 432x288 with 1 Axes>"
            ]
          },
          "metadata": {
            "tags": []
          }
        }
      ]
    },
    {
      "cell_type": "markdown",
      "metadata": {
        "id": "xQVCiaNDn4VJ",
        "colab_type": "text"
      },
      "source": [
        "As you can see in the above plot, the validation loss stopped decreasing after 20 epochs."
      ]
    },
    {
      "cell_type": "markdown",
      "metadata": {
        "id": "FgePSmZBmSbn",
        "colab_type": "text"
      },
      "source": [
        "# 6)-Make Predictions"
      ]
    },
    {
      "cell_type": "code",
      "metadata": {
        "id": "6gh_CukCl7Al",
        "colab_type": "code",
        "colab": {}
      },
      "source": [
        "model = load_model('model.h1.24_jan_19') \n",
        "\n",
        "preds = model.predict_classes(testX.reshape((testX.shape[0], testX.shape[1])))"
      ],
      "execution_count": 0,
      "outputs": []
    },
    {
      "cell_type": "markdown",
      "metadata": {
        "id": "M-DaR0x4oA4P",
        "colab_type": "text"
      },
      "source": [
        "These predictions are sequences of integers. We need to convert these integers to their corresponding words."
      ]
    },
    {
      "cell_type": "markdown",
      "metadata": {
        "id": "VU6IOmOOoB3f",
        "colab_type": "text"
      },
      "source": [
        "### 6.1)- Convert integers to words"
      ]
    },
    {
      "cell_type": "code",
      "metadata": {
        "id": "oiy9gGAAmAat",
        "colab_type": "code",
        "colab": {}
      },
      "source": [
        "def get_word(n, tokenizer):  \n",
        "      for word, index in tokenizer.word_index.items():                       \n",
        "          if index == n: \n",
        "              return word \n",
        "      return None"
      ],
      "execution_count": 0,
      "outputs": []
    },
    {
      "cell_type": "markdown",
      "metadata": {
        "id": "KqSwZTcXmDTW",
        "colab_type": "text"
      },
      "source": [
        "### 6.2)-Convert predictions into text (English)"
      ]
    },
    {
      "cell_type": "code",
      "metadata": {
        "id": "Y82jlYQMmAg0",
        "colab_type": "code",
        "colab": {}
      },
      "source": [
        "preds_text = [] \n",
        "for i in preds:        \n",
        "       temp = []        \n",
        "       for j in range(len(i)):             \n",
        "            t = get_word(i[j], eng_tokenizer)             \n",
        "            if j > 0:                 \n",
        "                if (t==get_word(i[j-1],eng_tokenizer))or(t== None):                       \n",
        "                     temp.append('')                 \n",
        "                else:                      \n",
        "                     temp.append(t)             \n",
        "            else:                    \n",
        "                if(t == None):                                   \n",
        "                     temp.append('')                    \n",
        "                else:                           \n",
        "                     temp.append(t)        \n",
        "       preds_text.append(' '.join(temp))"
      ],
      "execution_count": 0,
      "outputs": []
    },
    {
      "cell_type": "code",
      "metadata": {
        "id": "XOAI5cB8mAj3",
        "colab_type": "code",
        "colab": {}
      },
      "source": [
        "pred_df = pd.DataFrame({'actual' : test[:,0], 'predicted' : preds_text})"
      ],
      "execution_count": 0,
      "outputs": []
    },
    {
      "cell_type": "code",
      "metadata": {
        "id": "S2orsrv6oo4o",
        "colab_type": "code",
        "colab": {
          "base_uri": "https://localhost:8080/",
          "height": 491
        },
        "outputId": "57f3585c-f298-4675-85d8-c08aa4b1eb72"
      },
      "source": [
        "# 1st 15 rows\n",
        "pred_df.head(15)"
      ],
      "execution_count": 26,
      "outputs": [
        {
          "output_type": "execute_result",
          "data": {
            "text/html": [
              "<div>\n",
              "<style scoped>\n",
              "    .dataframe tbody tr th:only-of-type {\n",
              "        vertical-align: middle;\n",
              "    }\n",
              "\n",
              "    .dataframe tbody tr th {\n",
              "        vertical-align: top;\n",
              "    }\n",
              "\n",
              "    .dataframe thead th {\n",
              "        text-align: right;\n",
              "    }\n",
              "</style>\n",
              "<table border=\"1\" class=\"dataframe\">\n",
              "  <thead>\n",
              "    <tr style=\"text-align: right;\">\n",
              "      <th></th>\n",
              "      <th>actual</th>\n",
              "      <th>predicted</th>\n",
              "    </tr>\n",
              "  </thead>\n",
              "  <tbody>\n",
              "    <tr>\n",
              "      <th>0</th>\n",
              "      <td>he wanted to be rich</td>\n",
              "      <td>he wanted to be rich</td>\n",
              "    </tr>\n",
              "    <tr>\n",
              "      <th>1</th>\n",
              "      <td>i love tom</td>\n",
              "      <td>i love tom</td>\n",
              "    </tr>\n",
              "    <tr>\n",
              "      <th>2</th>\n",
              "      <td>let us go home</td>\n",
              "      <td>lets go home</td>\n",
              "    </tr>\n",
              "    <tr>\n",
              "      <th>3</th>\n",
              "      <td>i love driving</td>\n",
              "      <td>i love to my</td>\n",
              "    </tr>\n",
              "    <tr>\n",
              "      <th>4</th>\n",
              "      <td>this is my dictionary</td>\n",
              "      <td>thats my dictionary</td>\n",
              "    </tr>\n",
              "    <tr>\n",
              "      <th>5</th>\n",
              "      <td>hi tom good morning</td>\n",
              "      <td>tom  good</td>\n",
              "    </tr>\n",
              "    <tr>\n",
              "      <th>6</th>\n",
              "      <td>why is she so popular</td>\n",
              "      <td>why is it so popular</td>\n",
              "    </tr>\n",
              "    <tr>\n",
              "      <th>7</th>\n",
              "      <td>ill show you my room</td>\n",
              "      <td>ill show you my room</td>\n",
              "    </tr>\n",
              "    <tr>\n",
              "      <th>8</th>\n",
              "      <td>did tom oversleep</td>\n",
              "      <td>tom</td>\n",
              "    </tr>\n",
              "    <tr>\n",
              "      <th>9</th>\n",
              "      <td>keep up the good work</td>\n",
              "      <td>look good</td>\n",
              "    </tr>\n",
              "    <tr>\n",
              "      <th>10</th>\n",
              "      <td>what happened</td>\n",
              "      <td>what happened</td>\n",
              "    </tr>\n",
              "    <tr>\n",
              "      <th>11</th>\n",
              "      <td>toms weak</td>\n",
              "      <td>tom is weak</td>\n",
              "    </tr>\n",
              "    <tr>\n",
              "      <th>12</th>\n",
              "      <td>take tom home</td>\n",
              "      <td>take tom home</td>\n",
              "    </tr>\n",
              "    <tr>\n",
              "      <th>13</th>\n",
              "      <td>school is out</td>\n",
              "      <td>school is over</td>\n",
              "    </tr>\n",
              "    <tr>\n",
              "      <th>14</th>\n",
              "      <td>it is pitch dark</td>\n",
              "      <td>its pitch black</td>\n",
              "    </tr>\n",
              "  </tbody>\n",
              "</table>\n",
              "</div>"
            ],
            "text/plain": [
              "                   actual                 predicted\n",
              "0    he wanted to be rich   he wanted to be rich   \n",
              "1              i love tom           i love tom     \n",
              "2          let us go home         lets go home     \n",
              "3          i love driving          i love to my    \n",
              "4   this is my dictionary  thats my dictionary     \n",
              "5     hi tom good morning            tom  good     \n",
              "6   why is she so popular   why is it so popular   \n",
              "7    ill show you my room   ill show you my room   \n",
              "8       did tom oversleep                tom       \n",
              "9   keep up the good work           look good      \n",
              "10          what happened       what happened      \n",
              "11              toms weak          tom is weak     \n",
              "12          take tom home        take tom home     \n",
              "13          school is out       school is over     \n",
              "14       it is pitch dark      its pitch black     "
            ]
          },
          "metadata": {
            "tags": []
          },
          "execution_count": 26
        }
      ]
    },
    {
      "cell_type": "code",
      "metadata": {
        "id": "LPocsO00mJy-",
        "colab_type": "code",
        "colab": {
          "base_uri": "https://localhost:8080/",
          "height": 491
        },
        "outputId": "0db3e74d-a70c-4635-ab40-44768efd74ae"
      },
      "source": [
        "# print 15 rows randomly \n",
        "pred_df.sample(15)"
      ],
      "execution_count": 25,
      "outputs": [
        {
          "output_type": "execute_result",
          "data": {
            "text/html": [
              "<div>\n",
              "<style scoped>\n",
              "    .dataframe tbody tr th:only-of-type {\n",
              "        vertical-align: middle;\n",
              "    }\n",
              "\n",
              "    .dataframe tbody tr th {\n",
              "        vertical-align: top;\n",
              "    }\n",
              "\n",
              "    .dataframe thead th {\n",
              "        text-align: right;\n",
              "    }\n",
              "</style>\n",
              "<table border=\"1\" class=\"dataframe\">\n",
              "  <thead>\n",
              "    <tr style=\"text-align: right;\">\n",
              "      <th></th>\n",
              "      <th>actual</th>\n",
              "      <th>predicted</th>\n",
              "    </tr>\n",
              "  </thead>\n",
              "  <tbody>\n",
              "    <tr>\n",
              "      <th>8824</th>\n",
              "      <td>whos your uncle</td>\n",
              "      <td>whos is your</td>\n",
              "    </tr>\n",
              "    <tr>\n",
              "      <th>8408</th>\n",
              "      <td>where are we</td>\n",
              "      <td>where are we</td>\n",
              "    </tr>\n",
              "    <tr>\n",
              "      <th>8978</th>\n",
              "      <td>im happy youre happy</td>\n",
              "      <td>im glad tom happy</td>\n",
              "    </tr>\n",
              "    <tr>\n",
              "      <th>4499</th>\n",
              "      <td>hes wasted</td>\n",
              "      <td>he is aggressive</td>\n",
              "    </tr>\n",
              "    <tr>\n",
              "      <th>5279</th>\n",
              "      <td>tom is better</td>\n",
              "      <td>tom is better</td>\n",
              "    </tr>\n",
              "    <tr>\n",
              "      <th>3480</th>\n",
              "      <td>please give me one</td>\n",
              "      <td>give me a reason</td>\n",
              "    </tr>\n",
              "    <tr>\n",
              "      <th>1951</th>\n",
              "      <td>my conscience is clear</td>\n",
              "      <td>i changed sunglasses</td>\n",
              "    </tr>\n",
              "    <tr>\n",
              "      <th>255</th>\n",
              "      <td>black suits you</td>\n",
              "      <td>the suits is</td>\n",
              "    </tr>\n",
              "    <tr>\n",
              "      <th>3430</th>\n",
              "      <td>tom is on the roof</td>\n",
              "      <td>tom is on the</td>\n",
              "    </tr>\n",
              "    <tr>\n",
              "      <th>2644</th>\n",
              "      <td>tom has to be hot</td>\n",
              "      <td>tom must be</td>\n",
              "    </tr>\n",
              "    <tr>\n",
              "      <th>9447</th>\n",
              "      <td>i already knew that</td>\n",
              "      <td>i already knew this</td>\n",
              "    </tr>\n",
              "    <tr>\n",
              "      <th>1038</th>\n",
              "      <td>where is your dog</td>\n",
              "      <td>wheres is dog</td>\n",
              "    </tr>\n",
              "    <tr>\n",
              "      <th>6850</th>\n",
              "      <td>hello again</td>\n",
              "      <td>explain it</td>\n",
              "    </tr>\n",
              "    <tr>\n",
              "      <th>2318</th>\n",
              "      <td>he can be trusted</td>\n",
              "      <td>he can be trusted</td>\n",
              "    </tr>\n",
              "    <tr>\n",
              "      <th>7062</th>\n",
              "      <td>i have been busy today</td>\n",
              "      <td>i had a busy</td>\n",
              "    </tr>\n",
              "  </tbody>\n",
              "</table>\n",
              "</div>"
            ],
            "text/plain": [
              "                      actual                  predicted\n",
              "8824         whos your uncle          whos is your     \n",
              "8408            where are we          where are we     \n",
              "8978    im happy youre happy      im glad tom happy    \n",
              "4499              hes wasted      he is aggressive     \n",
              "5279           tom is better         tom is better     \n",
              "3480      please give me one       give me a reason    \n",
              "1951  my conscience is clear  i changed sunglasses     \n",
              "255          black suits you          the suits is     \n",
              "3430      tom is on the roof          tom is on the    \n",
              "2644       tom has to be hot           tom must be     \n",
              "9447     i already knew that    i already knew this    \n",
              "1038       where is your dog         wheres is dog     \n",
              "6850             hello again           explain it      \n",
              "2318       he can be trusted      he can be trusted    \n",
              "7062  i have been busy today           i had a busy    "
            ]
          },
          "metadata": {
            "tags": []
          },
          "execution_count": 25
        }
      ]
    },
    {
      "cell_type": "code",
      "metadata": {
        "id": "Dr85d8ngmJ2H",
        "colab_type": "code",
        "colab": {}
      },
      "source": [
        ""
      ],
      "execution_count": 0,
      "outputs": []
    }
  ]
}