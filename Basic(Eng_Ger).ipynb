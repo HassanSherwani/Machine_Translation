{
  "nbformat": 4,
  "nbformat_minor": 0,
  "metadata": {
    "colab": {
      "name": "Basic(Eng-Ger).ipynb",
      "version": "0.3.2",
      "provenance": [],
      "collapsed_sections": []
    },
    "kernelspec": {
      "name": "python3",
      "display_name": "Python 3"
    },
    "accelerator": "GPU"
  },
  "cells": [
    {
      "cell_type": "markdown",
      "metadata": {
        "id": "QJxJLfT6m4zo",
        "colab_type": "text"
      },
      "source": [
        "# Machine Translation\n",
        "\n",
        "English-German Translation"
      ]
    },
    {
      "cell_type": "markdown",
      "metadata": {
        "id": "YvFSu3KOnCQI",
        "colab_type": "text"
      },
      "source": [
        "# 1)- Importing key modules"
      ]
    },
    {
      "cell_type": "code",
      "metadata": {
        "id": "ydSdCo4JzRta",
        "colab_type": "code",
        "colab": {}
      },
      "source": [
        "#support both Python 2 and Python 3 with minimal overhead.\n",
        "from __future__ import absolute_import, division, print_function\n",
        "#ignore warnings\n",
        "import warnings\n",
        "warnings.filterwarnings('ignore')"
      ],
      "execution_count": 0,
      "outputs": []
    },
    {
      "cell_type": "code",
      "metadata": {
        "id": "HXdjBXc-zNXe",
        "colab_type": "code",
        "colab": {}
      },
      "source": [
        "import string \n",
        "import re \n",
        "from numpy import array, argmax, random, take \n",
        "import pandas as pd \n",
        "import matplotlib.pyplot as plt \n",
        "% matplotlib inline \n",
        "pd.set_option('display.max_colwidth', 200)"
      ],
      "execution_count": 0,
      "outputs": []
    },
    {
      "cell_type": "code",
      "metadata": {
        "id": "ElRcz5K3hJrC",
        "colab_type": "code",
        "outputId": "8e3c7838-1144-40c0-b6d1-44d96b2c540a",
        "colab": {
          "base_uri": "https://localhost:8080/",
          "height": 34
        }
      },
      "source": [
        "from keras.models import Sequential \n",
        "from keras.layers import Dense, LSTM, Embedding, RepeatVector\n",
        "from keras.preprocessing.text import Tokenizer\n",
        "from keras.callbacks import ModelCheckpoint \n",
        "from keras.preprocessing.sequence import pad_sequences\n",
        "from keras.models import load_model \n",
        "from keras import optimizers \n"
      ],
      "execution_count": 3,
      "outputs": [
        {
          "output_type": "stream",
          "text": [
            "Using TensorFlow backend.\n"
          ],
          "name": "stderr"
        }
      ]
    },
    {
      "cell_type": "markdown",
      "metadata": {
        "id": "XN_b91atnHye",
        "colab_type": "text"
      },
      "source": [
        "# 2)- Reading Dataset"
      ]
    },
    {
      "cell_type": "code",
      "metadata": {
        "id": "ZM1ZO53WhL_6",
        "colab_type": "code",
        "colab": {}
      },
      "source": [
        "# function to read raw text file\n",
        "def read_text(filename): \n",
        "        # open the file \n",
        "        file = open(filename, mode='rt', encoding='utf-8') \n",
        "        \n",
        "        # read all text \n",
        "        text = file.read() \n",
        "        file.close() \n",
        "        return text"
      ],
      "execution_count": 0,
      "outputs": []
    },
    {
      "cell_type": "code",
      "metadata": {
        "id": "3nJ3NaVchcWb",
        "colab_type": "code",
        "colab": {}
      },
      "source": [
        "# split text into sentences \n",
        "def to_lines(text): \n",
        "      sents = text.strip().split('\\n') \n",
        "      sents = [i.split('\\t') for i in sents] \n",
        "      return sents"
      ],
      "execution_count": 0,
      "outputs": []
    },
    {
      "cell_type": "code",
      "metadata": {
        "id": "liHFTvu6hffX",
        "colab_type": "code",
        "colab": {}
      },
      "source": [
        "data = read_text(\"deu.txt\") \n",
        "deu_eng = to_lines(data) \n",
        "deu_eng = array(deu_eng)"
      ],
      "execution_count": 0,
      "outputs": []
    },
    {
      "cell_type": "code",
      "metadata": {
        "id": "1LoUaSevh0Z2",
        "colab_type": "code",
        "colab": {}
      },
      "source": [
        "deu_eng = deu_eng[:50000,:]"
      ],
      "execution_count": 0,
      "outputs": []
    },
    {
      "cell_type": "markdown",
      "metadata": {
        "id": "bX6QuO7xh6RK",
        "colab_type": "text"
      },
      "source": [
        "# 3)-Text Pre-Processing"
      ]
    },
    {
      "cell_type": "code",
      "metadata": {
        "id": "7ewE-nHLh3ph",
        "colab_type": "code",
        "outputId": "51d10f8f-c6eb-4505-fcd9-2333da155207",
        "colab": {
          "base_uri": "https://localhost:8080/",
          "height": 151
        }
      },
      "source": [
        "deu_eng"
      ],
      "execution_count": 8,
      "outputs": [
        {
          "output_type": "execute_result",
          "data": {
            "text/plain": [
              "array([['Hi.', 'Hallo!'],\n",
              "       ['Hi.', 'Grüß Gott!'],\n",
              "       ['Run!', 'Lauf!'],\n",
              "       ...,\n",
              "       ['The man died of cancer.', 'Der Mann starb an Krebs.'],\n",
              "       ['The man lay motionless.', 'Der Mann lag bewegungslos da.'],\n",
              "       ['The man must be insane.', 'Der Mann muss geistesgestört sein.']],\n",
              "      dtype='<U537')"
            ]
          },
          "metadata": {
            "tags": []
          },
          "execution_count": 8
        }
      ]
    },
    {
      "cell_type": "code",
      "metadata": {
        "id": "o1FK1T2Kicbi",
        "colab_type": "code",
        "outputId": "958e31db-a8e6-4f13-f61d-a4a7e9ecdf76",
        "colab": {
          "base_uri": "https://localhost:8080/",
          "height": 67
        }
      },
      "source": [
        "# for english part \n",
        "deu_eng[:,0]"
      ],
      "execution_count": 9,
      "outputs": [
        {
          "output_type": "execute_result",
          "data": {
            "text/plain": [
              "array(['Hi.', 'Hi.', 'Run!', ..., 'The man died of cancer.',\n",
              "       'The man lay motionless.', 'The man must be insane.'],\n",
              "      dtype='<U537')"
            ]
          },
          "metadata": {
            "tags": []
          },
          "execution_count": 9
        }
      ]
    },
    {
      "cell_type": "code",
      "metadata": {
        "id": "Z2CAJPD_ifVc",
        "colab_type": "code",
        "outputId": "a32457ea-966e-47cb-86f2-ed2775d7632f",
        "colab": {
          "base_uri": "https://localhost:8080/",
          "height": 67
        }
      },
      "source": [
        "# for german part of lang.\n",
        "deu_eng[:,1]"
      ],
      "execution_count": 10,
      "outputs": [
        {
          "output_type": "execute_result",
          "data": {
            "text/plain": [
              "array(['Hallo!', 'Grüß Gott!', 'Lauf!', ..., 'Der Mann starb an Krebs.',\n",
              "       'Der Mann lag bewegungslos da.',\n",
              "       'Der Mann muss geistesgestört sein.'], dtype='<U537')"
            ]
          },
          "metadata": {
            "tags": []
          },
          "execution_count": 10
        }
      ]
    },
    {
      "cell_type": "markdown",
      "metadata": {
        "id": "GEia-m7ViPLD",
        "colab_type": "text"
      },
      "source": [
        "### 3.1)-Text cleaning"
      ]
    },
    {
      "cell_type": "code",
      "metadata": {
        "id": "WmC81k-wh8ZJ",
        "colab_type": "code",
        "colab": {}
      },
      "source": [
        "# Remove punctuation \n",
        "deu_eng[:,0] = [s.translate(str.maketrans('', '', string.punctuation)) for s in deu_eng[:,0]] \n",
        "deu_eng[:,1] = [s.translate(str.maketrans('', '', string.punctuation)) for s in deu_eng[:,1]] \n",
        "\n",
        "# convert text to lowercase \n",
        "for i in range(len(deu_eng)): \n",
        "    deu_eng[i,0] = deu_eng[i,0].lower() \n",
        "    deu_eng[i,1] = deu_eng[i,1].lower()"
      ],
      "execution_count": 0,
      "outputs": []
    },
    {
      "cell_type": "markdown",
      "metadata": {
        "id": "4FdyDdXwiS9i",
        "colab_type": "text"
      },
      "source": [
        "### 3.2)-Text to Sequence Conversion"
      ]
    },
    {
      "cell_type": "code",
      "metadata": {
        "id": "8pxu1-xNh8cA",
        "colab_type": "code",
        "outputId": "75149c11-f0a0-42f8-c3c9-4b6fe92eb3be",
        "colab": {
          "base_uri": "https://localhost:8080/",
          "height": 281
        }
      },
      "source": [
        "# empty lists \n",
        "eng_l = [] \n",
        "deu_l = [] \n",
        "\n",
        "# populate the lists with sentence lengths \n",
        "for i in deu_eng[:,0]: \n",
        "      eng_l.append(len(i.split())) \n",
        "\n",
        "for i in deu_eng[:,1]: \n",
        "      deu_l.append(len(i.split())) \n",
        "\n",
        "length_df = pd.DataFrame({'eng':eng_l, 'deu':deu_l})\n",
        "length_df.hist(bins = 30) \n",
        "plt.show()"
      ],
      "execution_count": 12,
      "outputs": [
        {
          "output_type": "display_data",
          "data": {
            "image/png": "[encoded data removed]",
            "text/plain": [
              "<Figure size 432x288 with 2 Axes>"
            ]
          },
          "metadata": {
            "tags": []
          }
        }
      ]
    },
    {
      "cell_type": "markdown",
      "metadata": {
        "id": "2De4ZERJzX_4",
        "colab_type": "text"
      },
      "source": [
        "the maximum length of the German sentences is 8 and that of the English phrases is 6."
      ]
    },
    {
      "cell_type": "markdown",
      "metadata": {
        "id": "Lpt6tCjfkGKu",
        "colab_type": "text"
      },
      "source": [
        "### 3.3)-vectorize our text data \n",
        "\n",
        "by using Keras’s Tokenizer()"
      ]
    },
    {
      "cell_type": "code",
      "metadata": {
        "id": "_j_y_uZ7h8e6",
        "colab_type": "code",
        "outputId": "2d5904b3-a1fa-40b5-9720-8575e6dd6525",
        "colab": {
          "base_uri": "https://localhost:8080/",
          "height": 34
        }
      },
      "source": [
        "# function to build a tokenizer \n",
        "def tokenization(lines): \n",
        "      tokenizer = Tokenizer() \n",
        "      tokenizer.fit_on_texts(lines) \n",
        "      return tokenizer\n",
        "\n",
        "# prepare english tokenizer \n",
        "eng_tokenizer = tokenization(deu_eng[:, 0]) \n",
        "eng_vocab_size = len(eng_tokenizer.word_index) + 1 \n",
        "eng_length = 8 \n",
        "\n",
        "print('English Vocabulary Size: %d' % eng_vocab_size)"
      ],
      "execution_count": 13,
      "outputs": [
        {
          "output_type": "stream",
          "text": [
            "English Vocabulary Size: 6352\n"
          ],
          "name": "stdout"
        }
      ]
    },
    {
      "cell_type": "code",
      "metadata": {
        "id": "0ha_ZNySh8hh",
        "colab_type": "code",
        "outputId": "990b9916-f77e-40be-a958-12799771395c",
        "colab": {
          "base_uri": "https://localhost:8080/",
          "height": 34
        }
      },
      "source": [
        "# prepare Deutch tokenizer \n",
        "deu_tokenizer = tokenization(deu_eng[:, 1]) \n",
        "deu_vocab_size = len(deu_tokenizer.word_index) + 1 \n",
        "deu_length = 8 \n",
        "print('Deutch Vocabulary Size: %d' % deu_vocab_size)"
      ],
      "execution_count": 14,
      "outputs": [
        {
          "output_type": "stream",
          "text": [
            "Deutch Vocabulary Size: 10678\n"
          ],
          "name": "stdout"
        }
      ]
    },
    {
      "cell_type": "markdown",
      "metadata": {
        "id": "XvmowmplzfdT",
        "colab_type": "text"
      },
      "source": [
        "There is difference in amount of words in two languages.We need to encode sequence"
      ]
    },
    {
      "cell_type": "markdown",
      "metadata": {
        "id": "cUY-Py6WzhtB",
        "colab_type": "text"
      },
      "source": [
        "### 3.4)-encode and pad sequences "
      ]
    },
    {
      "cell_type": "code",
      "metadata": {
        "id": "QElAizsykOtJ",
        "colab_type": "code",
        "colab": {}
      },
      "source": [
        "def encode_sequences(tokenizer, length, lines):          \n",
        "         # integer encode sequences          \n",
        "         seq = tokenizer.texts_to_sequences(lines)          \n",
        "         # pad sequences with 0 values          \n",
        "         seq = pad_sequences(seq, maxlen=length, padding='post')           \n",
        "         return seq"
      ],
      "execution_count": 0,
      "outputs": []
    },
    {
      "cell_type": "markdown",
      "metadata": {
        "id": "408A3w7Ukb4r",
        "colab_type": "text"
      },
      "source": [
        "# 4)-Model Building"
      ]
    },
    {
      "cell_type": "markdown",
      "metadata": {
        "id": "kJF5iWUOnUgC",
        "colab_type": "text"
      },
      "source": [
        "### 4.1)- Train-test Split\n",
        "\n",
        "80%-20%"
      ]
    },
    {
      "cell_type": "code",
      "metadata": {
        "id": "GzxozTM0kZk7",
        "colab_type": "code",
        "colab": {}
      },
      "source": [
        "from sklearn.model_selection import train_test_split \n",
        "\n",
        "# split data into train and test set \n",
        "train,test= train_test_split(deu_eng,test_size=0.2,random_state= 12)"
      ],
      "execution_count": 0,
      "outputs": []
    },
    {
      "cell_type": "markdown",
      "metadata": {
        "id": "xvyO7SdQkr88",
        "colab_type": "text"
      },
      "source": [
        "### 4.2)- Defining input and target\n",
        "We will encode English sentences as the input sequences and German sentences as the target sequences"
      ]
    },
    {
      "cell_type": "code",
      "metadata": {
        "id": "wJvJMU9Vzr-7",
        "colab_type": "code",
        "colab": {
          "base_uri": "https://localhost:8080/",
          "height": 67
        },
        "outputId": "fdc42a2d-b5b0-423d-a022-6cdd00975687"
      },
      "source": [
        "# english version\n",
        "train[:, 0]"
      ],
      "execution_count": 17,
      "outputs": [
        {
          "output_type": "execute_result",
          "data": {
            "text/plain": [
              "array(['i have some bad news', 'spare me the details',\n",
              "       'do you know my husband', ..., 'my bag was stolen',\n",
              "       'tom works long hours', 'i like tom a lot'], dtype='<U537')"
            ]
          },
          "metadata": {
            "tags": []
          },
          "execution_count": 17
        }
      ]
    },
    {
      "cell_type": "code",
      "metadata": {
        "id": "TcMT6wFoztLT",
        "colab_type": "code",
        "colab": {
          "base_uri": "https://localhost:8080/",
          "height": 84
        },
        "outputId": "e6d28cb8-206e-4dfa-f7c5-64b37c2758fc"
      },
      "source": [
        "# english version\n",
        "train[:, 1]"
      ],
      "execution_count": 18,
      "outputs": [
        {
          "output_type": "execute_result",
          "data": {
            "text/plain": [
              "array(['ich habe schlechte nachrichten', 'erspare mir die einzelheiten',\n",
              "       'kennst du meinen mann', ..., 'meine tasche wurde gestohlen',\n",
              "       'tom hat eine lange arbeitszeit',\n",
              "       'tom ist mir unglaublich sympathisch'], dtype='<U537')"
            ]
          },
          "metadata": {
            "tags": []
          },
          "execution_count": 18
        }
      ]
    },
    {
      "cell_type": "code",
      "metadata": {
        "id": "P6ZhWiJdkkb8",
        "colab_type": "code",
        "colab": {}
      },
      "source": [
        "# prepare training data \n",
        "trainX = encode_sequences(eng_tokenizer, deu_length, train[:, 0]) \n",
        "trainY = encode_sequences(deu_tokenizer, eng_length, train[:, 1]) \n",
        "\n",
        "# prepare validation data \n",
        "testX = encode_sequences(eng_tokenizer, deu_length, test[:, 0]) \n",
        "testY = encode_sequences(deu_tokenizer, eng_length, test[:, 1])"
      ],
      "execution_count": 0,
      "outputs": []
    },
    {
      "cell_type": "code",
      "metadata": {
        "id": "f2LKJrFfz0GI",
        "colab_type": "code",
        "colab": {
          "base_uri": "https://localhost:8080/",
          "height": 101
        },
        "outputId": "bfb956ba-d801-4a50-b28d-bca545a23d00"
      },
      "source": [
        "print(trainX[:5])"
      ],
      "execution_count": 20,
      "outputs": [
        {
          "output_type": "stream",
          "text": [
            "[[   2   19  143  135  481    0    0    0]\n",
            " [2670    9    8 2312    0    0    0    0]\n",
            " [  11    3   33   16  780    0    0    0]\n",
            " [  27  110   26   19    0    0    0    0]\n",
            " [  23    5  200  442    0    0    0    0]]\n"
          ],
          "name": "stdout"
        }
      ]
    },
    {
      "cell_type": "code",
      "metadata": {
        "id": "L81CkA-Rz0Jh",
        "colab_type": "code",
        "colab": {
          "base_uri": "https://localhost:8080/",
          "height": 101
        },
        "outputId": "2347f65c-81d0-422d-fada-93398aed3536"
      },
      "source": [
        "print(trainY[:5])"
      ],
      "execution_count": 21,
      "outputs": [
        {
          "output_type": "stream",
          "text": [
            "[[   1   14  604 1274    0    0    0    0]\n",
            " [9062   15   17 3411    0    0    0    0]\n",
            " [ 556    8  139  185    0    0    0    0]\n",
            " [  22   10    4    0    0    0    0    0]\n",
            " [   5    3   24 1429  393    0    0    0]]\n"
          ],
          "name": "stdout"
        }
      ]
    },
    {
      "cell_type": "code",
      "metadata": {
        "id": "plUoF_-gz0Mh",
        "colab_type": "code",
        "colab": {
          "base_uri": "https://localhost:8080/",
          "height": 84
        },
        "outputId": "ad84ee82-fb44-4afb-feeb-09d5545daf00"
      },
      "source": [
        "print(trainX.shape)\n",
        "print(trainY.shape)\n",
        "print(testX.shape)\n",
        "print(testY.shape)"
      ],
      "execution_count": 22,
      "outputs": [
        {
          "output_type": "stream",
          "text": [
            "(40000, 8)\n",
            "(40000, 8)\n",
            "(10000, 8)\n",
            "(10000, 8)\n"
          ],
          "name": "stdout"
        }
      ]
    },
    {
      "cell_type": "markdown",
      "metadata": {
        "id": "7ubte9AUngfx",
        "colab_type": "text"
      },
      "source": [
        "### 4.3)- build NMT model"
      ]
    },
    {
      "cell_type": "code",
      "metadata": {
        "id": "CuEMUhwV248X",
        "colab_type": "code",
        "colab": {
          "base_uri": "https://localhost:8080/",
          "height": 34
        },
        "outputId": "b6602001-553a-4481-9630-566a1a7fede2"
      },
      "source": [
        "eng_length"
      ],
      "execution_count": 23,
      "outputs": [
        {
          "output_type": "execute_result",
          "data": {
            "text/plain": [
              "8"
            ]
          },
          "metadata": {
            "tags": []
          },
          "execution_count": 23
        }
      ]
    },
    {
      "cell_type": "code",
      "metadata": {
        "id": "afiv_7mw26av",
        "colab_type": "code",
        "colab": {
          "base_uri": "https://localhost:8080/",
          "height": 34
        },
        "outputId": "3a4582c6-39bf-4060-8c75-9bca3ecf0921"
      },
      "source": [
        "deu_length"
      ],
      "execution_count": 24,
      "outputs": [
        {
          "output_type": "execute_result",
          "data": {
            "text/plain": [
              "8"
            ]
          },
          "metadata": {
            "tags": []
          },
          "execution_count": 24
        }
      ]
    },
    {
      "cell_type": "code",
      "metadata": {
        "id": "yORpCfMCkkjz",
        "colab_type": "code",
        "colab": {}
      },
      "source": [
        " def build_model(in_vocab,out_vocab, in_timesteps,out_timesteps,n):   \n",
        "      model = Sequential() \n",
        "      model.add(Embedding(in_vocab, n, input_length=in_timesteps,   \n",
        "      mask_zero=True)) \n",
        "      model.add(LSTM(n)) \n",
        "      model.add(RepeatVector(out_timesteps)) \n",
        "      model.add(LSTM(n, return_sequences=True))  \n",
        "      model.add(Dense(out_vocab, activation='softmax')) \n",
        "      return model"
      ],
      "execution_count": 0,
      "outputs": []
    },
    {
      "cell_type": "code",
      "metadata": {
        "id": "H_0LMdC6lgnp",
        "colab_type": "code",
        "outputId": "ec5428c6-96c8-4ad0-f853-5f3d0aad8751",
        "colab": {
          "base_uri": "https://localhost:8080/",
          "height": 255
        }
      },
      "source": [
        "# model compilation (with 512 hidden units)\n",
        "model = build_model(eng_vocab_size,deu_vocab_size, eng_length, deu_length, 512)\n",
        "\n",
        "rms = optimizers.RMSprop(lr=0.001) \n",
        "model.compile(optimizer=rms, loss='sparse_categorical_crossentropy')"
      ],
      "execution_count": 26,
      "outputs": [
        {
          "output_type": "stream",
          "text": [
            "WARNING:tensorflow:From /usr/local/lib/python3.6/dist-packages/keras/backend/tensorflow_backend.py:66: The name tf.get_default_graph is deprecated. Please use tf.compat.v1.get_default_graph instead.\n",
            "\n",
            "WARNING:tensorflow:From /usr/local/lib/python3.6/dist-packages/keras/backend/tensorflow_backend.py:541: The name tf.placeholder is deprecated. Please use tf.compat.v1.placeholder instead.\n",
            "\n",
            "WARNING:tensorflow:From /usr/local/lib/python3.6/dist-packages/keras/backend/tensorflow_backend.py:4432: The name tf.random_uniform is deprecated. Please use tf.random.uniform instead.\n",
            "\n",
            "WARNING:tensorflow:From /usr/local/lib/python3.6/dist-packages/keras/backend/tensorflow_backend.py:3239: add_dispatch_support.<locals>.wrapper (from tensorflow.python.ops.array_ops) is deprecated and will be removed in a future version.\n",
            "Instructions for updating:\n",
            "Use tf.where in 2.0, which has the same broadcast rule as np.where\n",
            "WARNING:tensorflow:From /usr/local/lib/python3.6/dist-packages/keras/optimizers.py:793: The name tf.train.Optimizer is deprecated. Please use tf.compat.v1.train.Optimizer instead.\n",
            "\n",
            "WARNING:tensorflow:From /usr/local/lib/python3.6/dist-packages/keras/backend/tensorflow_backend.py:3622: The name tf.log is deprecated. Please use tf.math.log instead.\n",
            "\n"
          ],
          "name": "stdout"
        }
      ]
    },
    {
      "cell_type": "code",
      "metadata": {
        "id": "BA8KW2_80Hs3",
        "colab_type": "code",
        "colab": {
          "base_uri": "https://localhost:8080/",
          "height": 319
        },
        "outputId": "1b5a5b66-9f56-4f2f-a2db-137b904053ab"
      },
      "source": [
        "model.summary()"
      ],
      "execution_count": 27,
      "outputs": [
        {
          "output_type": "stream",
          "text": [
            "Model: \"sequential_1\"\n",
            "_________________________________________________________________\n",
            "Layer (type)                 Output Shape              Param #   \n",
            "=================================================================\n",
            "embedding_1 (Embedding)      (None, 8, 512)            3252224   \n",
            "_________________________________________________________________\n",
            "lstm_1 (LSTM)                (None, 512)               2099200   \n",
            "_________________________________________________________________\n",
            "repeat_vector_1 (RepeatVecto (None, 8, 512)            0         \n",
            "_________________________________________________________________\n",
            "lstm_2 (LSTM)                (None, 8, 512)            2099200   \n",
            "_________________________________________________________________\n",
            "dense_1 (Dense)              (None, 8, 10678)          5477814   \n",
            "=================================================================\n",
            "Total params: 12,928,438\n",
            "Trainable params: 12,928,438\n",
            "Non-trainable params: 0\n",
            "_________________________________________________________________\n"
          ],
          "name": "stdout"
        }
      ]
    },
    {
      "cell_type": "code",
      "metadata": {
        "id": "9M1ukVFAlkFz",
        "colab_type": "code",
        "outputId": "c7b2110c-e472-40ba-b35d-8bd5ce1e0f87",
        "colab": {
          "base_uri": "https://localhost:8080/",
          "height": 1000
        }
      },
      "source": [
        "filename = 'model_translate.h1' \n",
        "\n",
        "# set checkpoint\n",
        "checkpoint = ModelCheckpoint(filename, monitor='val_loss',  \n",
        "                             verbose=1, save_best_only=True, \n",
        "                             mode='min') \n",
        "\n",
        "\n",
        "# train model \n",
        "history = model.fit(trainX, trainY.reshape(trainY.shape[0], trainY.shape[1], 1), \n",
        "                    epochs=30, batch_size=512, validation_split = 0.2, \n",
        "                    callbacks=[checkpoint], verbose=1)"
      ],
      "execution_count": 28,
      "outputs": [
        {
          "output_type": "stream",
          "text": [
            "WARNING:tensorflow:From /usr/local/lib/python3.6/dist-packages/keras/backend/tensorflow_backend.py:1033: The name tf.assign_add is deprecated. Please use tf.compat.v1.assign_add instead.\n",
            "\n",
            "Train on 32000 samples, validate on 8000 samples\n",
            "Epoch 1/30\n",
            "32000/32000 [==============================] - 12s 390us/step - loss: 4.0179 - val_loss: 3.3885\n",
            "\n",
            "Epoch 00001: val_loss improved from inf to 3.38848, saving model to model_translate.h1\n",
            "Epoch 2/30\n",
            "32000/32000 [==============================] - 10s 307us/step - loss: 3.2479 - val_loss: 3.2511\n",
            "\n",
            "Epoch 00002: val_loss improved from 3.38848 to 3.25112, saving model to model_translate.h1\n",
            "Epoch 3/30\n",
            "32000/32000 [==============================] - 10s 311us/step - loss: 3.0295 - val_loss: 3.0428\n",
            "\n",
            "Epoch 00003: val_loss improved from 3.25112 to 3.04282, saving model to model_translate.h1\n",
            "Epoch 4/30\n",
            "32000/32000 [==============================] - 10s 314us/step - loss: 2.8766 - val_loss: 2.9537\n",
            "\n",
            "Epoch 00004: val_loss improved from 3.04282 to 2.95367, saving model to model_translate.h1\n",
            "Epoch 5/30\n",
            "32000/32000 [==============================] - 10s 316us/step - loss: 2.7599 - val_loss: 2.8474\n",
            "\n",
            "Epoch 00005: val_loss improved from 2.95367 to 2.84741, saving model to model_translate.h1\n",
            "Epoch 6/30\n",
            "32000/32000 [==============================] - 10s 314us/step - loss: 2.6523 - val_loss: 2.7866\n",
            "\n",
            "Epoch 00006: val_loss improved from 2.84741 to 2.78661, saving model to model_translate.h1\n",
            "Epoch 7/30\n",
            "32000/32000 [==============================] - 10s 312us/step - loss: 2.5544 - val_loss: 2.6859\n",
            "\n",
            "Epoch 00007: val_loss improved from 2.78661 to 2.68588, saving model to model_translate.h1\n",
            "Epoch 8/30\n",
            "32000/32000 [==============================] - 10s 313us/step - loss: 2.4484 - val_loss: 2.6329\n",
            "\n",
            "Epoch 00008: val_loss improved from 2.68588 to 2.63286, saving model to model_translate.h1\n",
            "Epoch 9/30\n",
            "32000/32000 [==============================] - 10s 311us/step - loss: 2.3539 - val_loss: 2.5704\n",
            "\n",
            "Epoch 00009: val_loss improved from 2.63286 to 2.57044, saving model to model_translate.h1\n",
            "Epoch 10/30\n",
            "32000/32000 [==============================] - 10s 311us/step - loss: 2.2617 - val_loss: 2.4909\n",
            "\n",
            "Epoch 00010: val_loss improved from 2.57044 to 2.49094, saving model to model_translate.h1\n",
            "Epoch 11/30\n",
            "32000/32000 [==============================] - 10s 310us/step - loss: 2.1696 - val_loss: 2.4251\n",
            "\n",
            "Epoch 00011: val_loss improved from 2.49094 to 2.42509, saving model to model_translate.h1\n",
            "Epoch 12/30\n",
            "32000/32000 [==============================] - 10s 312us/step - loss: 2.0783 - val_loss: 2.3912\n",
            "\n",
            "Epoch 00012: val_loss improved from 2.42509 to 2.39117, saving model to model_translate.h1\n",
            "Epoch 13/30\n",
            "32000/32000 [==============================] - 10s 313us/step - loss: 1.9837 - val_loss: 2.2970\n",
            "\n",
            "Epoch 00013: val_loss improved from 2.39117 to 2.29702, saving model to model_translate.h1\n",
            "Epoch 14/30\n",
            "32000/32000 [==============================] - 10s 313us/step - loss: 1.8918 - val_loss: 2.2455\n",
            "\n",
            "Epoch 00014: val_loss improved from 2.29702 to 2.24552, saving model to model_translate.h1\n",
            "Epoch 15/30\n",
            "32000/32000 [==============================] - 10s 313us/step - loss: 1.8018 - val_loss: 2.1895\n",
            "\n",
            "Epoch 00015: val_loss improved from 2.24552 to 2.18950, saving model to model_translate.h1\n",
            "Epoch 16/30\n",
            "32000/32000 [==============================] - 10s 314us/step - loss: 1.7155 - val_loss: 2.1287\n",
            "\n",
            "Epoch 00016: val_loss improved from 2.18950 to 2.12871, saving model to model_translate.h1\n",
            "Epoch 17/30\n",
            "32000/32000 [==============================] - 10s 312us/step - loss: 1.6324 - val_loss: 2.0901\n",
            "\n",
            "Epoch 00017: val_loss improved from 2.12871 to 2.09008, saving model to model_translate.h1\n",
            "Epoch 18/30\n",
            "32000/32000 [==============================] - 10s 313us/step - loss: 1.5518 - val_loss: 2.0420\n",
            "\n",
            "Epoch 00018: val_loss improved from 2.09008 to 2.04199, saving model to model_translate.h1\n",
            "Epoch 19/30\n",
            "32000/32000 [==============================] - 10s 313us/step - loss: 1.4768 - val_loss: 2.0010\n",
            "\n",
            "Epoch 00019: val_loss improved from 2.04199 to 2.00097, saving model to model_translate.h1\n",
            "Epoch 20/30\n",
            "32000/32000 [==============================] - 10s 314us/step - loss: 1.4022 - val_loss: 1.9738\n",
            "\n",
            "Epoch 00020: val_loss improved from 2.00097 to 1.97384, saving model to model_translate.h1\n",
            "Epoch 21/30\n",
            "32000/32000 [==============================] - 10s 312us/step - loss: 1.3321 - val_loss: 1.9391\n",
            "\n",
            "Epoch 00021: val_loss improved from 1.97384 to 1.93912, saving model to model_translate.h1\n",
            "Epoch 22/30\n",
            "32000/32000 [==============================] - 10s 312us/step - loss: 1.2628 - val_loss: 1.9216\n",
            "\n",
            "Epoch 00022: val_loss improved from 1.93912 to 1.92161, saving model to model_translate.h1\n",
            "Epoch 23/30\n",
            "32000/32000 [==============================] - 10s 312us/step - loss: 1.1992 - val_loss: 1.8772\n",
            "\n",
            "Epoch 00023: val_loss improved from 1.92161 to 1.87721, saving model to model_translate.h1\n",
            "Epoch 24/30\n",
            "32000/32000 [==============================] - 10s 312us/step - loss: 1.1397 - val_loss: 1.8658\n",
            "\n",
            "Epoch 00024: val_loss improved from 1.87721 to 1.86580, saving model to model_translate.h1\n",
            "Epoch 25/30\n",
            "32000/32000 [==============================] - 10s 312us/step - loss: 1.0803 - val_loss: 1.8313\n",
            "\n",
            "Epoch 00025: val_loss improved from 1.86580 to 1.83132, saving model to model_translate.h1\n",
            "Epoch 26/30\n",
            "32000/32000 [==============================] - 10s 312us/step - loss: 1.0246 - val_loss: 1.8412\n",
            "\n",
            "Epoch 00026: val_loss did not improve from 1.83132\n",
            "Epoch 27/30\n",
            "32000/32000 [==============================] - 10s 311us/step - loss: 0.9711 - val_loss: 1.7972\n",
            "\n",
            "Epoch 00027: val_loss improved from 1.83132 to 1.79721, saving model to model_translate.h1\n",
            "Epoch 28/30\n",
            "32000/32000 [==============================] - 10s 313us/step - loss: 0.9222 - val_loss: 1.7821\n",
            "\n",
            "Epoch 00028: val_loss improved from 1.79721 to 1.78207, saving model to model_translate.h1\n",
            "Epoch 29/30\n",
            "32000/32000 [==============================] - 10s 312us/step - loss: 0.8710 - val_loss: 1.7858\n",
            "\n",
            "Epoch 00029: val_loss did not improve from 1.78207\n",
            "Epoch 30/30\n",
            "32000/32000 [==============================] - 10s 311us/step - loss: 0.8257 - val_loss: 1.7585\n",
            "\n",
            "Epoch 00030: val_loss improved from 1.78207 to 1.75846, saving model to model_translate.h1\n"
          ],
          "name": "stdout"
        }
      ]
    },
    {
      "cell_type": "markdown",
      "metadata": {
        "id": "nwrL0_sjmUuO",
        "colab_type": "text"
      },
      "source": [
        "# 5)-Plotting results"
      ]
    },
    {
      "cell_type": "code",
      "metadata": {
        "id": "iUYdtjQXlupF",
        "colab_type": "code",
        "outputId": "ec504fbe-5143-49ce-d1f7-a7950d5592d0",
        "colab": {
          "base_uri": "https://localhost:8080/",
          "height": 269
        }
      },
      "source": [
        "plt.plot(history.history['loss']) \n",
        "plt.plot(history.history['val_loss']) \n",
        "plt.legend(['train','validation']) \n",
        "plt.show()"
      ],
      "execution_count": 29,
      "outputs": [
        {
          "output_type": "display_data",
          "data": {
            "image/png": "[encoded data removed]",
            "text/plain": [
              "<Figure size 432x288 with 1 Axes>"
            ]
          },
          "metadata": {
            "tags": []
          }
        }
      ]
    },
    {
      "cell_type": "markdown",
      "metadata": {
        "id": "xQVCiaNDn4VJ",
        "colab_type": "text"
      },
      "source": [
        "As you can see in the above plot, the validation loss stopped decreasing after 25 epochs. It did improve but not very significant."
      ]
    },
    {
      "cell_type": "markdown",
      "metadata": {
        "id": "FgePSmZBmSbn",
        "colab_type": "text"
      },
      "source": [
        "# 6)-Make Predictions"
      ]
    },
    {
      "cell_type": "code",
      "metadata": {
        "id": "6gh_CukCl7Al",
        "colab_type": "code",
        "colab": {}
      },
      "source": [
        "model = load_model('model_translate.h1') \n",
        "\n",
        "preds = model.predict_classes(testX.reshape((testX.shape[0], testX.shape[1])))"
      ],
      "execution_count": 0,
      "outputs": []
    },
    {
      "cell_type": "markdown",
      "metadata": {
        "id": "M-DaR0x4oA4P",
        "colab_type": "text"
      },
      "source": [
        "These predictions are sequences of integers. We need to convert these integers to their corresponding words."
      ]
    },
    {
      "cell_type": "markdown",
      "metadata": {
        "id": "VU6IOmOOoB3f",
        "colab_type": "text"
      },
      "source": [
        "### 6.1)- Convert integers to words"
      ]
    },
    {
      "cell_type": "code",
      "metadata": {
        "id": "oiy9gGAAmAat",
        "colab_type": "code",
        "colab": {}
      },
      "source": [
        "def get_word(n, tokenizer):  \n",
        "      for word, index in tokenizer.word_index.items():                       \n",
        "          if index == n: \n",
        "              return word \n",
        "      return None"
      ],
      "execution_count": 0,
      "outputs": []
    },
    {
      "cell_type": "markdown",
      "metadata": {
        "id": "KqSwZTcXmDTW",
        "colab_type": "text"
      },
      "source": [
        "### 6.2)-Convert predictions into text (German)"
      ]
    },
    {
      "cell_type": "code",
      "metadata": {
        "id": "Y82jlYQMmAg0",
        "colab_type": "code",
        "colab": {}
      },
      "source": [
        "preds_text = [] \n",
        "for i in preds:        \n",
        "       temp = []        \n",
        "       for j in range(len(i)):             \n",
        "            t = get_word(i[j], deu_tokenizer)             \n",
        "            if j > 0:                 \n",
        "                if (t==get_word(i[j-1],deu_tokenizer))or(t== None):                       \n",
        "                     temp.append('')                 \n",
        "                else:                      \n",
        "                     temp.append(t)             \n",
        "            else:                    \n",
        "                if(t == None):                                   \n",
        "                     temp.append('')                    \n",
        "                else:                           \n",
        "                     temp.append(t)        \n",
        "       preds_text.append(' '.join(temp))"
      ],
      "execution_count": 0,
      "outputs": []
    },
    {
      "cell_type": "code",
      "metadata": {
        "id": "XOAI5cB8mAj3",
        "colab_type": "code",
        "colab": {}
      },
      "source": [
        "pred_df = pd.DataFrame({'actual' : test[:,1], 'predicted' : preds_text})"
      ],
      "execution_count": 0,
      "outputs": []
    },
    {
      "cell_type": "code",
      "metadata": {
        "id": "S2orsrv6oo4o",
        "colab_type": "code",
        "outputId": "ec01d552-5aeb-45f4-a38e-b8634c816192",
        "colab": {
          "base_uri": "https://localhost:8080/",
          "height": 491
        }
      },
      "source": [
        "# 1st 15 rows\n",
        "pred_df.head(15)"
      ],
      "execution_count": 37,
      "outputs": [
        {
          "output_type": "execute_result",
          "data": {
            "text/html": [
              "<div>\n",
              "<style scoped>\n",
              "    .dataframe tbody tr th:only-of-type {\n",
              "        vertical-align: middle;\n",
              "    }\n",
              "\n",
              "    .dataframe tbody tr th {\n",
              "        vertical-align: top;\n",
              "    }\n",
              "\n",
              "    .dataframe thead th {\n",
              "        text-align: right;\n",
              "    }\n",
              "</style>\n",
              "<table border=\"1\" class=\"dataframe\">\n",
              "  <thead>\n",
              "    <tr style=\"text-align: right;\">\n",
              "      <th></th>\n",
              "      <th>actual</th>\n",
              "      <th>predicted</th>\n",
              "    </tr>\n",
              "  </thead>\n",
              "  <tbody>\n",
              "    <tr>\n",
              "      <th>0</th>\n",
              "      <td>er wollte reich sein</td>\n",
              "      <td>er wollte reich sein</td>\n",
              "    </tr>\n",
              "    <tr>\n",
              "      <th>1</th>\n",
              "      <td>ich liebe tom</td>\n",
              "      <td>ich liebe tom</td>\n",
              "    </tr>\n",
              "    <tr>\n",
              "      <th>2</th>\n",
              "      <td>lasst uns nach hause gehen</td>\n",
              "      <td>lass uns nach hause gehen</td>\n",
              "    </tr>\n",
              "    <tr>\n",
              "      <th>3</th>\n",
              "      <td>ich fahre für mein leben gern</td>\n",
              "      <td>ich liebe gern</td>\n",
              "    </tr>\n",
              "    <tr>\n",
              "      <th>4</th>\n",
              "      <td>das ist mein wörterbuch</td>\n",
              "      <td>das ist mein wörterbuch</td>\n",
              "    </tr>\n",
              "    <tr>\n",
              "      <th>5</th>\n",
              "      <td>hallo tom guten morgen</td>\n",
              "      <td>hallo tom</td>\n",
              "    </tr>\n",
              "    <tr>\n",
              "      <th>6</th>\n",
              "      <td>warum ist sie so beliebt</td>\n",
              "      <td>warum ist so</td>\n",
              "    </tr>\n",
              "    <tr>\n",
              "      <th>7</th>\n",
              "      <td>ich zeige euch mein zimmer</td>\n",
              "      <td>ich zeige dir mein zimmer</td>\n",
              "    </tr>\n",
              "    <tr>\n",
              "      <th>8</th>\n",
              "      <td>hat tom verschlafen</td>\n",
              "      <td>hat tom gewählt</td>\n",
              "    </tr>\n",
              "    <tr>\n",
              "      <th>9</th>\n",
              "      <td>leiste nur weiterhin so gute arbeit</td>\n",
              "      <td>mach sie auf</td>\n",
              "    </tr>\n",
              "    <tr>\n",
              "      <th>10</th>\n",
              "      <td>was hat sich zugetragen</td>\n",
              "      <td>was ist</td>\n",
              "    </tr>\n",
              "    <tr>\n",
              "      <th>11</th>\n",
              "      <td>tom ist schwach</td>\n",
              "      <td>tom ist schwach</td>\n",
              "    </tr>\n",
              "    <tr>\n",
              "      <th>12</th>\n",
              "      <td>bring tom nach hause</td>\n",
              "      <td>geh tom nach hause</td>\n",
              "    </tr>\n",
              "    <tr>\n",
              "      <th>13</th>\n",
              "      <td>die schule ist zu ende</td>\n",
              "      <td>die schule ist aus</td>\n",
              "    </tr>\n",
              "    <tr>\n",
              "      <th>14</th>\n",
              "      <td>es ist zappenduster</td>\n",
              "      <td>es ist dunkel</td>\n",
              "    </tr>\n",
              "  </tbody>\n",
              "</table>\n",
              "</div>"
            ],
            "text/plain": [
              "                                 actual                     predicted\n",
              "0                  er wollte reich sein      er wollte reich sein    \n",
              "1                         ich liebe tom            ich liebe tom     \n",
              "2            lasst uns nach hause gehen  lass uns nach hause gehen   \n",
              "3         ich fahre für mein leben gern           ich liebe gern     \n",
              "4               das ist mein wörterbuch   das ist mein wörterbuch    \n",
              "5                hallo tom guten morgen               hallo tom      \n",
              "6              warum ist sie so beliebt             warum ist so     \n",
              "7            ich zeige euch mein zimmer  ich zeige dir mein zimmer   \n",
              "8                   hat tom verschlafen          hat tom gewählt     \n",
              "9   leiste nur weiterhin so gute arbeit             mach sie auf     \n",
              "10              was hat sich zugetragen                 was ist      \n",
              "11                      tom ist schwach          tom ist schwach     \n",
              "12                 bring tom nach hause        geh tom nach hause    \n",
              "13               die schule ist zu ende        die schule ist aus    \n",
              "14                  es ist zappenduster            es ist dunkel     "
            ]
          },
          "metadata": {
            "tags": []
          },
          "execution_count": 37
        }
      ]
    },
    {
      "cell_type": "code",
      "metadata": {
        "id": "LPocsO00mJy-",
        "colab_type": "code",
        "outputId": "2721057f-e060-4bc4-a6bf-1254755a5e96",
        "colab": {
          "base_uri": "https://localhost:8080/",
          "height": 491
        }
      },
      "source": [
        "# print 15 rows randomly \n",
        "pred_df.sample(15)"
      ],
      "execution_count": 38,
      "outputs": [
        {
          "output_type": "execute_result",
          "data": {
            "text/html": [
              "<div>\n",
              "<style scoped>\n",
              "    .dataframe tbody tr th:only-of-type {\n",
              "        vertical-align: middle;\n",
              "    }\n",
              "\n",
              "    .dataframe tbody tr th {\n",
              "        vertical-align: top;\n",
              "    }\n",
              "\n",
              "    .dataframe thead th {\n",
              "        text-align: right;\n",
              "    }\n",
              "</style>\n",
              "<table border=\"1\" class=\"dataframe\">\n",
              "  <thead>\n",
              "    <tr style=\"text-align: right;\">\n",
              "      <th></th>\n",
              "      <th>actual</th>\n",
              "      <th>predicted</th>\n",
              "    </tr>\n",
              "  </thead>\n",
              "  <tbody>\n",
              "    <tr>\n",
              "      <th>7881</th>\n",
              "      <td>gib tom seine schlüssel</td>\n",
              "      <td>gib tom seine schlüssel</td>\n",
              "    </tr>\n",
              "    <tr>\n",
              "      <th>4549</th>\n",
              "      <td>stecke deine nase nicht in fremde angelegenheiten</td>\n",
              "      <td>kümmere dich deine  eigenen angelegenheiten</td>\n",
              "    </tr>\n",
              "    <tr>\n",
              "      <th>7639</th>\n",
              "      <td>erzähl mir von tom</td>\n",
              "      <td>sag mir tom</td>\n",
              "    </tr>\n",
              "    <tr>\n",
              "      <th>8730</th>\n",
              "      <td>gefällt dir das piano</td>\n",
              "      <td>gefällt dir diese piano</td>\n",
              "    </tr>\n",
              "    <tr>\n",
              "      <th>3392</th>\n",
              "      <td>meine unterhose ist nass</td>\n",
              "      <td>meine schwester war verärgert</td>\n",
              "    </tr>\n",
              "    <tr>\n",
              "      <th>6503</th>\n",
              "      <td>tom war wirklich verärgert</td>\n",
              "      <td>tom war wirklich wütend</td>\n",
              "    </tr>\n",
              "    <tr>\n",
              "      <th>599</th>\n",
              "      <td>ich bin schlecht im französischen</td>\n",
              "      <td>ich bin nicht japanisch</td>\n",
              "    </tr>\n",
              "    <tr>\n",
              "      <th>2153</th>\n",
              "      <td>wem wirst du glauben</td>\n",
              "      <td>wen kannst du helfen</td>\n",
              "    </tr>\n",
              "    <tr>\n",
              "      <th>5714</th>\n",
              "      <td>haben sie es eilig</td>\n",
              "      <td>bist du ein zu</td>\n",
              "    </tr>\n",
              "    <tr>\n",
              "      <th>5612</th>\n",
              "      <td>mach jetzt deine hausaufgaben</td>\n",
              "      <td>mach eure ihre</td>\n",
              "    </tr>\n",
              "    <tr>\n",
              "      <th>9796</th>\n",
              "      <td>ich habe ferien</td>\n",
              "      <td>ich bin auf</td>\n",
              "    </tr>\n",
              "    <tr>\n",
              "      <th>4144</th>\n",
              "      <td>wir müssen da sein</td>\n",
              "      <td>wir müssen dort sein</td>\n",
              "    </tr>\n",
              "    <tr>\n",
              "      <th>6276</th>\n",
              "      <td>tom ist ein großer feigling</td>\n",
              "      <td>tom ist ein guter feigling</td>\n",
              "    </tr>\n",
              "    <tr>\n",
              "      <th>1868</th>\n",
              "      <td>ich hörte die gute nachricht</td>\n",
              "      <td>ich habe die  nachricht vergessen</td>\n",
              "    </tr>\n",
              "    <tr>\n",
              "      <th>836</th>\n",
              "      <td>ich weiß wo sie lebt</td>\n",
              "      <td>ich weiß wo er wohnt ist</td>\n",
              "    </tr>\n",
              "  </tbody>\n",
              "</table>\n",
              "</div>"
            ],
            "text/plain": [
              "                                                 actual                                      predicted\n",
              "7881                            gib tom seine schlüssel                    gib tom seine schlüssel    \n",
              "4549  stecke deine nase nicht in fremde angelegenheiten  kümmere dich deine  eigenen angelegenheiten  \n",
              "7639                                 erzähl mir von tom                               sag mir tom     \n",
              "8730                              gefällt dir das piano                    gefällt dir diese piano    \n",
              "3392                           meine unterhose ist nass              meine schwester war verärgert    \n",
              "6503                         tom war wirklich verärgert                    tom war wirklich wütend    \n",
              "599                   ich bin schlecht im französischen                    ich bin nicht japanisch    \n",
              "2153                               wem wirst du glauben                       wen kannst du helfen    \n",
              "5714                                 haben sie es eilig                             bist du ein zu    \n",
              "5612                      mach jetzt deine hausaufgaben                            mach eure ihre     \n",
              "9796                                    ich habe ferien                               ich bin auf     \n",
              "4144                                 wir müssen da sein                       wir müssen dort sein    \n",
              "6276                        tom ist ein großer feigling                  tom ist ein guter feigling   \n",
              "1868                       ich hörte die gute nachricht            ich habe die  nachricht vergessen  \n",
              "836                                ich weiß wo sie lebt                     ich weiß wo er wohnt ist  "
            ]
          },
          "metadata": {
            "tags": []
          },
          "execution_count": 38
        }
      ]
    }
  ]
}